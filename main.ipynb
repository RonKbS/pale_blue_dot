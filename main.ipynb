{
 "cells": [
  {
   "cell_type": "code",
   "execution_count": 9,
   "metadata": {},
   "outputs": [],
   "source": [
    "from datetime import datetime\n",
    "\n",
    "import pandas as pd\n",
    "import plotly.express as px"
   ]
  },
  {
   "cell_type": "code",
   "execution_count": 47,
   "metadata": {},
   "outputs": [],
   "source": [
    "df = pd.read_csv(\"ndvi_time_series_multiple_II.csv\")"
   ]
  },
  {
   "cell_type": "code",
   "execution_count": 48,
   "metadata": {},
   "outputs": [
    {
     "data": {
      "text/html": [
       "<div>\n",
       "<style scoped>\n",
       "    .dataframe tbody tr th:only-of-type {\n",
       "        vertical-align: middle;\n",
       "    }\n",
       "\n",
       "    .dataframe tbody tr th {\n",
       "        vertical-align: top;\n",
       "    }\n",
       "\n",
       "    .dataframe thead th {\n",
       "        text-align: right;\n",
       "    }\n",
       "</style>\n",
       "<table border=\"1\" class=\"dataframe\">\n",
       "  <thead>\n",
       "    <tr style=\"text-align: right;\">\n",
       "      <th></th>\n",
       "      <th>system:index</th>\n",
       "      <th>NDVI</th>\n",
       "      <th>system:time_start</th>\n",
       "      <th>.geo</th>\n",
       "      <th>time_stamp</th>\n",
       "    </tr>\n",
       "  </thead>\n",
       "  <tbody>\n",
       "    <tr>\n",
       "      <th>0</th>\n",
       "      <td>LC08_171059_20210110</td>\n",
       "      <td>0.060816</td>\n",
       "      <td>1.610266e+09</td>\n",
       "      <td>{\"type\":\"MultiPoint\",\"coordinates\":[]}</td>\n",
       "      <td>2021-01-10 08:01:08.642999808</td>\n",
       "    </tr>\n",
       "    <tr>\n",
       "      <th>1</th>\n",
       "      <td>LC08_171059_20210126</td>\n",
       "      <td>0.262514</td>\n",
       "      <td>1.611648e+09</td>\n",
       "      <td>{\"type\":\"MultiPoint\",\"coordinates\":[]}</td>\n",
       "      <td>2021-01-26 08:01:04.121999872</td>\n",
       "    </tr>\n",
       "    <tr>\n",
       "      <th>2</th>\n",
       "      <td>LC08_171059_20210227</td>\n",
       "      <td>0.508404</td>\n",
       "      <td>1.614413e+09</td>\n",
       "      <td>{\"type\":\"MultiPoint\",\"coordinates\":[]}</td>\n",
       "      <td>2021-02-27 08:00:55.732000000</td>\n",
       "    </tr>\n",
       "    <tr>\n",
       "      <th>3</th>\n",
       "      <td>LC08_171059_20210315</td>\n",
       "      <td>0.397017</td>\n",
       "      <td>1.615795e+09</td>\n",
       "      <td>{\"type\":\"MultiPoint\",\"coordinates\":[]}</td>\n",
       "      <td>2021-03-15 08:00:46.667000064</td>\n",
       "    </tr>\n",
       "    <tr>\n",
       "      <th>4</th>\n",
       "      <td>LC08_171059_20210331</td>\n",
       "      <td>0.131746</td>\n",
       "      <td>1.617178e+09</td>\n",
       "      <td>{\"type\":\"MultiPoint\",\"coordinates\":[]}</td>\n",
       "      <td>2021-03-31 08:00:42.459000064</td>\n",
       "    </tr>\n",
       "    <tr>\n",
       "      <th>...</th>\n",
       "      <td>...</td>\n",
       "      <td>...</td>\n",
       "      <td>...</td>\n",
       "      <td>...</td>\n",
       "      <td>...</td>\n",
       "    </tr>\n",
       "    <tr>\n",
       "      <th>97</th>\n",
       "      <td>LC08_172060_20210322</td>\n",
       "      <td>0.270185</td>\n",
       "      <td>1.616400e+09</td>\n",
       "      <td>{\"type\":\"MultiPoint\",\"coordinates\":[]}</td>\n",
       "      <td>2021-03-22 08:07:19.136000000</td>\n",
       "    </tr>\n",
       "    <tr>\n",
       "      <th>98</th>\n",
       "      <td>LC08_172060_20211117</td>\n",
       "      <td>NaN</td>\n",
       "      <td>1.637136e+09</td>\n",
       "      <td>{\"type\":\"MultiPoint\",\"coordinates\":[]}</td>\n",
       "      <td>2021-11-17 08:07:50.430000128</td>\n",
       "    </tr>\n",
       "    <tr>\n",
       "      <th>99</th>\n",
       "      <td>LC08_172060_20220104</td>\n",
       "      <td>NaN</td>\n",
       "      <td>1.641284e+09</td>\n",
       "      <td>{\"type\":\"MultiPoint\",\"coordinates\":[]}</td>\n",
       "      <td>2022-01-04 08:07:45.244999936</td>\n",
       "    </tr>\n",
       "    <tr>\n",
       "      <th>100</th>\n",
       "      <td>LC08_172060_20220120</td>\n",
       "      <td>NaN</td>\n",
       "      <td>1.642666e+09</td>\n",
       "      <td>{\"type\":\"MultiPoint\",\"coordinates\":[]}</td>\n",
       "      <td>2022-01-20 08:07:42.114000128</td>\n",
       "    </tr>\n",
       "    <tr>\n",
       "      <th>101</th>\n",
       "      <td>LC08_172060_20221222</td>\n",
       "      <td>0.342750</td>\n",
       "      <td>1.671696e+09</td>\n",
       "      <td>{\"type\":\"MultiPoint\",\"coordinates\":[]}</td>\n",
       "      <td>2022-12-22 08:07:53.051000064</td>\n",
       "    </tr>\n",
       "  </tbody>\n",
       "</table>\n",
       "<p>102 rows × 5 columns</p>\n",
       "</div>"
      ],
      "text/plain": [
       "             system:index      NDVI  system:time_start  \\\n",
       "0    LC08_171059_20210110  0.060816       1.610266e+09   \n",
       "1    LC08_171059_20210126  0.262514       1.611648e+09   \n",
       "2    LC08_171059_20210227  0.508404       1.614413e+09   \n",
       "3    LC08_171059_20210315  0.397017       1.615795e+09   \n",
       "4    LC08_171059_20210331  0.131746       1.617178e+09   \n",
       "..                    ...       ...                ...   \n",
       "97   LC08_172060_20210322  0.270185       1.616400e+09   \n",
       "98   LC08_172060_20211117       NaN       1.637136e+09   \n",
       "99   LC08_172060_20220104       NaN       1.641284e+09   \n",
       "100  LC08_172060_20220120       NaN       1.642666e+09   \n",
       "101  LC08_172060_20221222  0.342750       1.671696e+09   \n",
       "\n",
       "                                       .geo                    time_stamp  \n",
       "0    {\"type\":\"MultiPoint\",\"coordinates\":[]} 2021-01-10 08:01:08.642999808  \n",
       "1    {\"type\":\"MultiPoint\",\"coordinates\":[]} 2021-01-26 08:01:04.121999872  \n",
       "2    {\"type\":\"MultiPoint\",\"coordinates\":[]} 2021-02-27 08:00:55.732000000  \n",
       "3    {\"type\":\"MultiPoint\",\"coordinates\":[]} 2021-03-15 08:00:46.667000064  \n",
       "4    {\"type\":\"MultiPoint\",\"coordinates\":[]} 2021-03-31 08:00:42.459000064  \n",
       "..                                      ...                           ...  \n",
       "97   {\"type\":\"MultiPoint\",\"coordinates\":[]} 2021-03-22 08:07:19.136000000  \n",
       "98   {\"type\":\"MultiPoint\",\"coordinates\":[]} 2021-11-17 08:07:50.430000128  \n",
       "99   {\"type\":\"MultiPoint\",\"coordinates\":[]} 2022-01-04 08:07:45.244999936  \n",
       "100  {\"type\":\"MultiPoint\",\"coordinates\":[]} 2022-01-20 08:07:42.114000128  \n",
       "101  {\"type\":\"MultiPoint\",\"coordinates\":[]} 2022-12-22 08:07:53.051000064  \n",
       "\n",
       "[102 rows x 5 columns]"
      ]
     },
     "execution_count": 48,
     "metadata": {},
     "output_type": "execute_result"
    }
   ],
   "source": [
    "# df.head()\n",
    "# type(df.iloc[0][\"system:time_start\"])\n",
    "# df[[\"time_stamp\"]] = df[[\"system:time_start\"]].apply(\n",
    "#     lambda x: datetime.utcfromtimestamp(float(x[0]/1000))\n",
    "# )\n",
    "\n",
    "df[[\"system:time_start\"]] = df[[\"system:time_start\"]].apply(lambda x: x/1000)\n",
    "\n",
    "df[\"time_stamp\"] = pd.to_datetime(df['system:time_start'], unit='s')\n",
    "\n",
    "df.head(n=len(df))"
   ]
  },
  {
   "cell_type": "code",
   "execution_count": 50,
   "metadata": {},
   "outputs": [
    {
     "data": {
      "application/vnd.plotly.v1+json": {
       "config": {
        "plotlyServerURL": "https://plot.ly"
       },
       "data": [
        {
         "hovertemplate": "time_stamp=%{x}<br>NDVI=%{y}<extra></extra>",
         "legendgroup": "",
         "marker": {
          "color": "#636efa",
          "symbol": "circle"
         },
         "mode": "markers",
         "name": "",
         "orientation": "v",
         "showlegend": false,
         "type": "scatter",
         "x": [
          "2021-01-10T08:01:08.642999",
          "2021-01-26T08:01:04.121999",
          "2021-02-27T08:00:55.732000",
          "2021-03-15T08:00:46.667000",
          "2021-03-31T08:00:42.459000",
          "2021-04-16T08:00:36.644999",
          "2021-05-02T08:00:27.523000",
          "2021-05-18T08:00:32.851000",
          "2021-06-03T08:00:41.381999",
          "2021-06-19T08:00:47.060000",
          "2021-07-05T08:00:49.892999",
          "2021-07-21T08:00:53.585999",
          "2021-08-06T08:01:01.344000",
          "2021-08-22T08:01:06.448999",
          "2021-09-07T08:01:11.209000",
          "2021-09-23T08:01:13.694999",
          "2021-10-09T08:01:19.875000",
          "2021-10-25T08:01:21.782000",
          "2021-11-10T08:01:18.721999",
          "2021-11-26T08:01:17.009999",
          "2021-12-12T08:01:16.842999",
          "2021-12-28T08:01:11.788000",
          "2022-01-13T08:01:09.431000",
          "2022-01-29T08:01:04.005000",
          "2022-02-14T08:01:00.604999",
          "2022-03-02T08:00:56.732000",
          "2022-03-18T08:00:49.706000",
          "2022-04-03T08:00:40.100000",
          "2022-04-19T08:00:45.280000",
          "2022-05-05T08:00:46.209000",
          "2022-05-21T08:00:52.387000",
          "2022-06-06T08:00:59.898000",
          "2022-06-22T08:01:08.992000",
          "2022-07-08T08:01:10.171000",
          "2022-07-24T08:01:16.112999",
          "2022-08-09T08:01:25.268999",
          "2022-08-25T08:01:27.991000",
          "2022-09-10T08:01:31.726000",
          "2022-09-26T08:01:34.698999",
          "2022-10-12T08:01:26.388999",
          "2022-10-28T08:01:33.812000",
          "2022-11-13T08:01:30.086999",
          "2022-11-29T08:01:29.516000",
          "2022-12-15T08:01:24.736999",
          "2021-01-26T08:01:28.043000",
          "2021-02-27T08:01:19.648999",
          "2021-03-15T08:01:10.584000",
          "2021-03-31T08:01:06.380000",
          "2021-04-16T08:01:00.562000",
          "2021-05-02T08:00:51.436000",
          "2021-05-18T08:00:56.772000",
          "2021-06-03T08:01:05.298000",
          "2021-06-19T08:01:10.976000",
          "2021-07-05T08:01:13.813999",
          "2021-07-21T08:01:17.507000",
          "2021-08-06T08:01:25.260000",
          "2021-08-22T08:01:30.374000",
          "2021-09-07T08:01:35.124999",
          "2021-09-23T08:01:37.611000",
          "2021-10-09T08:01:43.796000",
          "2021-10-25T08:01:45.698999",
          "2021-11-10T08:01:42.642999",
          "2021-11-26T08:01:40.934000",
          "2021-12-12T08:01:40.764000",
          "2021-12-28T08:01:35.712999",
          "2022-01-13T08:01:33.352000",
          "2022-01-29T08:01:27.920999",
          "2022-02-14T08:01:24.520999",
          "2022-03-02T08:01:20.648000",
          "2022-03-18T08:01:13.621999",
          "2022-04-03T08:01:04.016999",
          "2022-04-19T08:01:09.204999",
          "2022-05-05T08:01:10.128999",
          "2022-05-21T08:01:16.303000",
          "2022-06-06T08:01:23.819000",
          "2022-06-22T08:01:32.912000",
          "2022-07-08T08:01:34.092000",
          "2022-07-24T08:01:40.038000",
          "2022-08-09T08:01:49.190000",
          "2022-08-25T08:01:51.912000",
          "2022-09-10T08:01:55.645999",
          "2022-09-26T08:01:58.620000",
          "2022-10-12T08:01:50.309999",
          "2022-10-28T08:01:57.729000",
          "2022-11-29T08:01:53.428000",
          "2022-12-15T08:01:48.657000",
          "2021-01-17T08:07:15.839000",
          "2021-02-02T08:07:14.138000",
          "2021-02-18T08:07:10.145999",
          "2021-03-06T08:07:02.944999",
          "2021-03-22T08:06:55.214999",
          "2021-11-17T08:07:26.509999",
          "2022-01-04T08:07:21.328999",
          "2022-01-20T08:07:18.200999",
          "2022-12-22T08:07:29.135000",
          "2021-02-02T08:07:38.063000",
          "2021-03-06T08:07:26.864999",
          "2021-03-22T08:07:19.136000",
          "2021-11-17T08:07:50.430000",
          "2022-01-04T08:07:45.244999",
          "2022-01-20T08:07:42.114000",
          "2022-12-22T08:07:53.051000"
         ],
         "xaxis": "x",
         "y": [
          0.0608156466107266,
          0.2625136742398993,
          0.5084042403907053,
          0.3970166679665341,
          0.1317463415757638,
          0.6419023338784187,
          0.6028035455729895,
          0.6457914526502928,
          0.6384998724699026,
          0.3919396627234757,
          0.5371129686522238,
          0.6066925683803516,
          0.5149632636915129,
          0.1786631965233572,
          0.1501133125717743,
          0.6628628809229351,
          0.3998004352946366,
          0.4940978098848076,
          0.6873575795617026,
          0.5940769607171333,
          0.5997515951529225,
          0.1182576593126255,
          0.4659261217513343,
          0.5419856775453825,
          0.1858393234185238,
          0.4102657327417287,
          0.4478258453572091,
          0.6226761758507594,
          0.6944411291739919,
          0.6013048332896952,
          0.5093700064992193,
          0.4956081892960617,
          0.5897504250789842,
          0.4721946756218086,
          0.4726567461963656,
          0.4845298945107016,
          0.5879679224848464,
          0.1600079393996286,
          0.5969906020131166,
          0.7670736538769468,
          0.2764814668604715,
          0.0364069181840081,
          0.6498228801672378,
          0.2882435918110178,
          0.1197183166344784,
          0.1440399988055355,
          0.1335740078480366,
          0.0835366826696468,
          0.1895389273282466,
          0.0661408317625979,
          0.0093774569298275,
          0.1630877780622962,
          0.0573295412527423,
          0.1655624246327834,
          0.1152459392313754,
          0.0216130817769202,
          0.2166488908946792,
          0.0587456199609623,
          0.1210447663420585,
          0.1460319619244378,
          0.185690769799504,
          0.1235034210625161,
          0.0565365901084177,
          0.1137342753151685,
          0.0656151601103564,
          0.161967457547595,
          0.1203225070698844,
          0.0667072082322216,
          0.1066241635983529,
          0.1457138672028994,
          0.1682881130839429,
          0.1358735396809028,
          0.1132626262981742,
          0.156665329263739,
          0.0325914445701461,
          0.0888543960565549,
          0.1434531571445967,
          0.064473154135836,
          0.1083265168966362,
          0.1233235808196614,
          0.1535463737139568,
          0.0494273711495146,
          0.2278227165123209,
          0.1802017899372435,
          0.0971564216955453,
          0.152320970173042,
          0.0315078075236041,
          0.5552828500194016,
          null,
          0.519207343813265,
          0.2703870299482309,
          null,
          null,
          null,
          0.3438092372717683,
          0.554603335167125,
          0.513302150891224,
          0.270184791135895,
          null,
          null,
          null,
          0.3427502212946878
         ],
         "yaxis": "y"
        }
       ],
       "layout": {
        "legend": {
         "tracegroupgap": 0
        },
        "template": {
         "data": {
          "bar": [
           {
            "error_x": {
             "color": "#2a3f5f"
            },
            "error_y": {
             "color": "#2a3f5f"
            },
            "marker": {
             "line": {
              "color": "#E5ECF6",
              "width": 0.5
             },
             "pattern": {
              "fillmode": "overlay",
              "size": 10,
              "solidity": 0.2
             }
            },
            "type": "bar"
           }
          ],
          "barpolar": [
           {
            "marker": {
             "line": {
              "color": "#E5ECF6",
              "width": 0.5
             },
             "pattern": {
              "fillmode": "overlay",
              "size": 10,
              "solidity": 0.2
             }
            },
            "type": "barpolar"
           }
          ],
          "carpet": [
           {
            "aaxis": {
             "endlinecolor": "#2a3f5f",
             "gridcolor": "white",
             "linecolor": "white",
             "minorgridcolor": "white",
             "startlinecolor": "#2a3f5f"
            },
            "baxis": {
             "endlinecolor": "#2a3f5f",
             "gridcolor": "white",
             "linecolor": "white",
             "minorgridcolor": "white",
             "startlinecolor": "#2a3f5f"
            },
            "type": "carpet"
           }
          ],
          "choropleth": [
           {
            "colorbar": {
             "outlinewidth": 0,
             "ticks": ""
            },
            "type": "choropleth"
           }
          ],
          "contour": [
           {
            "colorbar": {
             "outlinewidth": 0,
             "ticks": ""
            },
            "colorscale": [
             [
              0,
              "#0d0887"
             ],
             [
              0.1111111111111111,
              "#46039f"
             ],
             [
              0.2222222222222222,
              "#7201a8"
             ],
             [
              0.3333333333333333,
              "#9c179e"
             ],
             [
              0.4444444444444444,
              "#bd3786"
             ],
             [
              0.5555555555555556,
              "#d8576b"
             ],
             [
              0.6666666666666666,
              "#ed7953"
             ],
             [
              0.7777777777777778,
              "#fb9f3a"
             ],
             [
              0.8888888888888888,
              "#fdca26"
             ],
             [
              1,
              "#f0f921"
             ]
            ],
            "type": "contour"
           }
          ],
          "contourcarpet": [
           {
            "colorbar": {
             "outlinewidth": 0,
             "ticks": ""
            },
            "type": "contourcarpet"
           }
          ],
          "heatmap": [
           {
            "colorbar": {
             "outlinewidth": 0,
             "ticks": ""
            },
            "colorscale": [
             [
              0,
              "#0d0887"
             ],
             [
              0.1111111111111111,
              "#46039f"
             ],
             [
              0.2222222222222222,
              "#7201a8"
             ],
             [
              0.3333333333333333,
              "#9c179e"
             ],
             [
              0.4444444444444444,
              "#bd3786"
             ],
             [
              0.5555555555555556,
              "#d8576b"
             ],
             [
              0.6666666666666666,
              "#ed7953"
             ],
             [
              0.7777777777777778,
              "#fb9f3a"
             ],
             [
              0.8888888888888888,
              "#fdca26"
             ],
             [
              1,
              "#f0f921"
             ]
            ],
            "type": "heatmap"
           }
          ],
          "heatmapgl": [
           {
            "colorbar": {
             "outlinewidth": 0,
             "ticks": ""
            },
            "colorscale": [
             [
              0,
              "#0d0887"
             ],
             [
              0.1111111111111111,
              "#46039f"
             ],
             [
              0.2222222222222222,
              "#7201a8"
             ],
             [
              0.3333333333333333,
              "#9c179e"
             ],
             [
              0.4444444444444444,
              "#bd3786"
             ],
             [
              0.5555555555555556,
              "#d8576b"
             ],
             [
              0.6666666666666666,
              "#ed7953"
             ],
             [
              0.7777777777777778,
              "#fb9f3a"
             ],
             [
              0.8888888888888888,
              "#fdca26"
             ],
             [
              1,
              "#f0f921"
             ]
            ],
            "type": "heatmapgl"
           }
          ],
          "histogram": [
           {
            "marker": {
             "pattern": {
              "fillmode": "overlay",
              "size": 10,
              "solidity": 0.2
             }
            },
            "type": "histogram"
           }
          ],
          "histogram2d": [
           {
            "colorbar": {
             "outlinewidth": 0,
             "ticks": ""
            },
            "colorscale": [
             [
              0,
              "#0d0887"
             ],
             [
              0.1111111111111111,
              "#46039f"
             ],
             [
              0.2222222222222222,
              "#7201a8"
             ],
             [
              0.3333333333333333,
              "#9c179e"
             ],
             [
              0.4444444444444444,
              "#bd3786"
             ],
             [
              0.5555555555555556,
              "#d8576b"
             ],
             [
              0.6666666666666666,
              "#ed7953"
             ],
             [
              0.7777777777777778,
              "#fb9f3a"
             ],
             [
              0.8888888888888888,
              "#fdca26"
             ],
             [
              1,
              "#f0f921"
             ]
            ],
            "type": "histogram2d"
           }
          ],
          "histogram2dcontour": [
           {
            "colorbar": {
             "outlinewidth": 0,
             "ticks": ""
            },
            "colorscale": [
             [
              0,
              "#0d0887"
             ],
             [
              0.1111111111111111,
              "#46039f"
             ],
             [
              0.2222222222222222,
              "#7201a8"
             ],
             [
              0.3333333333333333,
              "#9c179e"
             ],
             [
              0.4444444444444444,
              "#bd3786"
             ],
             [
              0.5555555555555556,
              "#d8576b"
             ],
             [
              0.6666666666666666,
              "#ed7953"
             ],
             [
              0.7777777777777778,
              "#fb9f3a"
             ],
             [
              0.8888888888888888,
              "#fdca26"
             ],
             [
              1,
              "#f0f921"
             ]
            ],
            "type": "histogram2dcontour"
           }
          ],
          "mesh3d": [
           {
            "colorbar": {
             "outlinewidth": 0,
             "ticks": ""
            },
            "type": "mesh3d"
           }
          ],
          "parcoords": [
           {
            "line": {
             "colorbar": {
              "outlinewidth": 0,
              "ticks": ""
             }
            },
            "type": "parcoords"
           }
          ],
          "pie": [
           {
            "automargin": true,
            "type": "pie"
           }
          ],
          "scatter": [
           {
            "fillpattern": {
             "fillmode": "overlay",
             "size": 10,
             "solidity": 0.2
            },
            "type": "scatter"
           }
          ],
          "scatter3d": [
           {
            "line": {
             "colorbar": {
              "outlinewidth": 0,
              "ticks": ""
             }
            },
            "marker": {
             "colorbar": {
              "outlinewidth": 0,
              "ticks": ""
             }
            },
            "type": "scatter3d"
           }
          ],
          "scattercarpet": [
           {
            "marker": {
             "colorbar": {
              "outlinewidth": 0,
              "ticks": ""
             }
            },
            "type": "scattercarpet"
           }
          ],
          "scattergeo": [
           {
            "marker": {
             "colorbar": {
              "outlinewidth": 0,
              "ticks": ""
             }
            },
            "type": "scattergeo"
           }
          ],
          "scattergl": [
           {
            "marker": {
             "colorbar": {
              "outlinewidth": 0,
              "ticks": ""
             }
            },
            "type": "scattergl"
           }
          ],
          "scattermapbox": [
           {
            "marker": {
             "colorbar": {
              "outlinewidth": 0,
              "ticks": ""
             }
            },
            "type": "scattermapbox"
           }
          ],
          "scatterpolar": [
           {
            "marker": {
             "colorbar": {
              "outlinewidth": 0,
              "ticks": ""
             }
            },
            "type": "scatterpolar"
           }
          ],
          "scatterpolargl": [
           {
            "marker": {
             "colorbar": {
              "outlinewidth": 0,
              "ticks": ""
             }
            },
            "type": "scatterpolargl"
           }
          ],
          "scatterternary": [
           {
            "marker": {
             "colorbar": {
              "outlinewidth": 0,
              "ticks": ""
             }
            },
            "type": "scatterternary"
           }
          ],
          "surface": [
           {
            "colorbar": {
             "outlinewidth": 0,
             "ticks": ""
            },
            "colorscale": [
             [
              0,
              "#0d0887"
             ],
             [
              0.1111111111111111,
              "#46039f"
             ],
             [
              0.2222222222222222,
              "#7201a8"
             ],
             [
              0.3333333333333333,
              "#9c179e"
             ],
             [
              0.4444444444444444,
              "#bd3786"
             ],
             [
              0.5555555555555556,
              "#d8576b"
             ],
             [
              0.6666666666666666,
              "#ed7953"
             ],
             [
              0.7777777777777778,
              "#fb9f3a"
             ],
             [
              0.8888888888888888,
              "#fdca26"
             ],
             [
              1,
              "#f0f921"
             ]
            ],
            "type": "surface"
           }
          ],
          "table": [
           {
            "cells": {
             "fill": {
              "color": "#EBF0F8"
             },
             "line": {
              "color": "white"
             }
            },
            "header": {
             "fill": {
              "color": "#C8D4E3"
             },
             "line": {
              "color": "white"
             }
            },
            "type": "table"
           }
          ]
         },
         "layout": {
          "annotationdefaults": {
           "arrowcolor": "#2a3f5f",
           "arrowhead": 0,
           "arrowwidth": 1
          },
          "autotypenumbers": "strict",
          "coloraxis": {
           "colorbar": {
            "outlinewidth": 0,
            "ticks": ""
           }
          },
          "colorscale": {
           "diverging": [
            [
             0,
             "#8e0152"
            ],
            [
             0.1,
             "#c51b7d"
            ],
            [
             0.2,
             "#de77ae"
            ],
            [
             0.3,
             "#f1b6da"
            ],
            [
             0.4,
             "#fde0ef"
            ],
            [
             0.5,
             "#f7f7f7"
            ],
            [
             0.6,
             "#e6f5d0"
            ],
            [
             0.7,
             "#b8e186"
            ],
            [
             0.8,
             "#7fbc41"
            ],
            [
             0.9,
             "#4d9221"
            ],
            [
             1,
             "#276419"
            ]
           ],
           "sequential": [
            [
             0,
             "#0d0887"
            ],
            [
             0.1111111111111111,
             "#46039f"
            ],
            [
             0.2222222222222222,
             "#7201a8"
            ],
            [
             0.3333333333333333,
             "#9c179e"
            ],
            [
             0.4444444444444444,
             "#bd3786"
            ],
            [
             0.5555555555555556,
             "#d8576b"
            ],
            [
             0.6666666666666666,
             "#ed7953"
            ],
            [
             0.7777777777777778,
             "#fb9f3a"
            ],
            [
             0.8888888888888888,
             "#fdca26"
            ],
            [
             1,
             "#f0f921"
            ]
           ],
           "sequentialminus": [
            [
             0,
             "#0d0887"
            ],
            [
             0.1111111111111111,
             "#46039f"
            ],
            [
             0.2222222222222222,
             "#7201a8"
            ],
            [
             0.3333333333333333,
             "#9c179e"
            ],
            [
             0.4444444444444444,
             "#bd3786"
            ],
            [
             0.5555555555555556,
             "#d8576b"
            ],
            [
             0.6666666666666666,
             "#ed7953"
            ],
            [
             0.7777777777777778,
             "#fb9f3a"
            ],
            [
             0.8888888888888888,
             "#fdca26"
            ],
            [
             1,
             "#f0f921"
            ]
           ]
          },
          "colorway": [
           "#636efa",
           "#EF553B",
           "#00cc96",
           "#ab63fa",
           "#FFA15A",
           "#19d3f3",
           "#FF6692",
           "#B6E880",
           "#FF97FF",
           "#FECB52"
          ],
          "font": {
           "color": "#2a3f5f"
          },
          "geo": {
           "bgcolor": "white",
           "lakecolor": "white",
           "landcolor": "#E5ECF6",
           "showlakes": true,
           "showland": true,
           "subunitcolor": "white"
          },
          "hoverlabel": {
           "align": "left"
          },
          "hovermode": "closest",
          "mapbox": {
           "style": "light"
          },
          "paper_bgcolor": "white",
          "plot_bgcolor": "#E5ECF6",
          "polar": {
           "angularaxis": {
            "gridcolor": "white",
            "linecolor": "white",
            "ticks": ""
           },
           "bgcolor": "#E5ECF6",
           "radialaxis": {
            "gridcolor": "white",
            "linecolor": "white",
            "ticks": ""
           }
          },
          "scene": {
           "xaxis": {
            "backgroundcolor": "#E5ECF6",
            "gridcolor": "white",
            "gridwidth": 2,
            "linecolor": "white",
            "showbackground": true,
            "ticks": "",
            "zerolinecolor": "white"
           },
           "yaxis": {
            "backgroundcolor": "#E5ECF6",
            "gridcolor": "white",
            "gridwidth": 2,
            "linecolor": "white",
            "showbackground": true,
            "ticks": "",
            "zerolinecolor": "white"
           },
           "zaxis": {
            "backgroundcolor": "#E5ECF6",
            "gridcolor": "white",
            "gridwidth": 2,
            "linecolor": "white",
            "showbackground": true,
            "ticks": "",
            "zerolinecolor": "white"
           }
          },
          "shapedefaults": {
           "line": {
            "color": "#2a3f5f"
           }
          },
          "ternary": {
           "aaxis": {
            "gridcolor": "white",
            "linecolor": "white",
            "ticks": ""
           },
           "baxis": {
            "gridcolor": "white",
            "linecolor": "white",
            "ticks": ""
           },
           "bgcolor": "#E5ECF6",
           "caxis": {
            "gridcolor": "white",
            "linecolor": "white",
            "ticks": ""
           }
          },
          "title": {
           "x": 0.05
          },
          "xaxis": {
           "automargin": true,
           "gridcolor": "white",
           "linecolor": "white",
           "ticks": "",
           "title": {
            "standoff": 15
           },
           "zerolinecolor": "white",
           "zerolinewidth": 2
          },
          "yaxis": {
           "automargin": true,
           "gridcolor": "white",
           "linecolor": "white",
           "ticks": "",
           "title": {
            "standoff": 15
           },
           "zerolinecolor": "white",
           "zerolinewidth": 2
          }
         }
        },
        "title": {
         "text": "NDVI time"
        },
        "xaxis": {
         "anchor": "y",
         "domain": [
          0,
          1
         ],
         "title": {
          "text": "time_stamp"
         }
        },
        "yaxis": {
         "anchor": "x",
         "domain": [
          0,
          1
         ],
         "title": {
          "text": "NDVI"
         }
        }
       }
      }
     },
     "metadata": {},
     "output_type": "display_data"
    }
   ],
   "source": [
    "fig = px.scatter(df[[\"NDVI\", \"time_stamp\"]], x='time_stamp', y='NDVI', title='NDVI time')\n",
    "fig.show()"
   ]
  }
 ],
 "metadata": {
  "kernelspec": {
   "display_name": "env",
   "language": "python",
   "name": "python3"
  },
  "language_info": {
   "codemirror_mode": {
    "name": "ipython",
    "version": 3
   },
   "file_extension": ".py",
   "mimetype": "text/x-python",
   "name": "python",
   "nbconvert_exporter": "python",
   "pygments_lexer": "ipython3",
   "version": "3.8.9"
  }
 },
 "nbformat": 4,
 "nbformat_minor": 2
}
