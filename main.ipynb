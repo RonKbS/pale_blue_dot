{
 "cells": [
  {
   "cell_type": "code",
   "execution_count": 5,
   "metadata": {},
   "outputs": [],
   "source": [
    "import json\n",
    "from datetime import datetime\n",
    "\n",
    "import folium\n",
    "import pandas as pd\n",
    "import plotly.express as px"
   ]
  },
  {
   "cell_type": "code",
   "execution_count": 63,
   "metadata": {},
   "outputs": [],
   "source": [
    "df = pd.read_csv(\"data/ndvi_time_series_multiple_II.csv\")\n",
    "# df_points =  pd.read_csv(\"data/ndvi_time_series_multiple_with_points.csv\")\n",
    "df_points =  pd.read_csv(\"data/ndvi_time_series_multiple_with_points_smaller_bound.csv\")"
   ]
  },
  {
   "cell_type": "code",
   "execution_count": 64,
   "metadata": {},
   "outputs": [
    {
     "name": "stdout",
     "output_type": "stream",
     "text": [
      "0      \"32.55533900429077-0.37257442274139246\"\n",
      "1      \"32.55533900429077-0.37257442274139246\"\n",
      "2      \"32.55533900429077-0.37257442274139246\"\n",
      "3      \"32.55533900429077-0.37257442274139246\"\n",
      "4      \"32.55533900429077-0.37257442274139246\"\n",
      "                        ...                   \n",
      "220    \"32.55533900429077-0.37257442274139246\"\n",
      "221    \"32.55533900429077-0.37257442274139246\"\n",
      "222    \"32.55533900429077-0.37257442274139246\"\n",
      "223    \"32.55533900429077-0.37257442274139246\"\n",
      "224    \"32.55533900429077-0.37257442274139246\"\n",
      "Name: .geo, Length: 225, dtype: object\n"
     ]
    }
   ],
   "source": [
    "# NOTE: NO LONGER TRYING TO GROUPBY. JUST USING THE ONE CENTRYA COORDINATES\n",
    "\n",
    "# df_points[[\".geo\"]].iloc[0]\n",
    "\n",
    "# def move_decimal(rows):\n",
    "#     # print(rows)\n",
    "#     # print(len(rows))\n",
    "\n",
    "#     for i, r_ in enumerate(rows):\n",
    "#         # print(json.loads(r_)[\"coordinates\"])\n",
    "#         point_ = json.loads(r_)\n",
    "#         # coordinates_ = json.loads(r_)[\"coordinates\"]\n",
    "#         coordinates_ = point_[\"coordinates\"]\n",
    "#         # coordinates_ = [x*10000 for x in coordinates_]\n",
    "#         coordinates_ = f\"{coordinates_[0]}-{coordinates_[1]}\"\n",
    "#         # point_[\"coordinates\"] = coordinates_\n",
    "#         # rows[i] = json.dumps(point_)\n",
    "#         rows[i] = json.dumps(coordinates_)\n",
    "\n",
    "#     # print(json.loads(row[0])[\"coordinates\"])\n",
    "#     print(rows)\n",
    "#     return rows\n",
    "\n",
    "# df_points[[\".geo\"]] = df_points[[\".geo\"]].apply(move_decimal)"
   ]
  },
  {
   "cell_type": "code",
   "execution_count": 65,
   "metadata": {},
   "outputs": [
    {
     "data": {
      "text/html": [
       "<div>\n",
       "<style scoped>\n",
       "    .dataframe tbody tr th:only-of-type {\n",
       "        vertical-align: middle;\n",
       "    }\n",
       "\n",
       "    .dataframe tbody tr th {\n",
       "        vertical-align: top;\n",
       "    }\n",
       "\n",
       "    .dataframe thead th {\n",
       "        text-align: right;\n",
       "    }\n",
       "</style>\n",
       "<table border=\"1\" class=\"dataframe\">\n",
       "  <thead>\n",
       "    <tr style=\"text-align: right;\">\n",
       "      <th></th>\n",
       "      <th>system:index</th>\n",
       "      <th>NDVI</th>\n",
       "      <th>system:time_start</th>\n",
       "      <th>.geo</th>\n",
       "      <th>time_stamp</th>\n",
       "    </tr>\n",
       "  </thead>\n",
       "  <tbody>\n",
       "    <tr>\n",
       "      <th>0</th>\n",
       "      <td>LC08_171060_20130426</td>\n",
       "      <td>0.414949</td>\n",
       "      <td>1.366963e+09</td>\n",
       "      <td>\"32.55533900429077-0.37257442274139246\"</td>\n",
       "      <td>2013-04-26 08:03:04.530999808</td>\n",
       "    </tr>\n",
       "    <tr>\n",
       "      <th>1</th>\n",
       "      <td>LC08_171060_20130512</td>\n",
       "      <td>0.688853</td>\n",
       "      <td>1.368346e+09</td>\n",
       "      <td>\"32.55533900429077-0.37257442274139246\"</td>\n",
       "      <td>2013-05-12 08:03:15.390000128</td>\n",
       "    </tr>\n",
       "    <tr>\n",
       "      <th>2</th>\n",
       "      <td>LC08_171060_20130528</td>\n",
       "      <td>0.628901</td>\n",
       "      <td>1.369728e+09</td>\n",
       "      <td>\"32.55533900429077-0.37257442274139246\"</td>\n",
       "      <td>2013-05-28 08:03:22.964000000</td>\n",
       "    </tr>\n",
       "    <tr>\n",
       "      <th>3</th>\n",
       "      <td>LC08_171060_20130613</td>\n",
       "      <td>0.270058</td>\n",
       "      <td>1.371111e+09</td>\n",
       "      <td>\"32.55533900429077-0.37257442274139246\"</td>\n",
       "      <td>2013-06-13 08:03:19.063000064</td>\n",
       "    </tr>\n",
       "    <tr>\n",
       "      <th>4</th>\n",
       "      <td>LC08_171060_20130629</td>\n",
       "      <td>0.319720</td>\n",
       "      <td>1.372493e+09</td>\n",
       "      <td>\"32.55533900429077-0.37257442274139246\"</td>\n",
       "      <td>2013-06-29 08:03:17.296000000</td>\n",
       "    </tr>\n",
       "    <tr>\n",
       "      <th>...</th>\n",
       "      <td>...</td>\n",
       "      <td>...</td>\n",
       "      <td>...</td>\n",
       "      <td>...</td>\n",
       "      <td>...</td>\n",
       "    </tr>\n",
       "    <tr>\n",
       "      <th>220</th>\n",
       "      <td>LC08_171060_20231202</td>\n",
       "      <td>0.125058</td>\n",
       "      <td>1.701504e+09</td>\n",
       "      <td>\"32.55533900429077-0.37257442274139246\"</td>\n",
       "      <td>2023-12-02 08:01:30.401999872</td>\n",
       "    </tr>\n",
       "    <tr>\n",
       "      <th>221</th>\n",
       "      <td>LC08_171060_20231218</td>\n",
       "      <td>0.343864</td>\n",
       "      <td>1.702886e+09</td>\n",
       "      <td>\"32.55533900429077-0.37257442274139246\"</td>\n",
       "      <td>2023-12-18 08:01:32.374000128</td>\n",
       "    </tr>\n",
       "    <tr>\n",
       "      <th>222</th>\n",
       "      <td>LC08_172060_20130410</td>\n",
       "      <td>0.750703</td>\n",
       "      <td>1.365581e+09</td>\n",
       "      <td>\"32.55533900429077-0.37257442274139246\"</td>\n",
       "      <td>2013-04-10 08:06:51.108000000</td>\n",
       "    </tr>\n",
       "    <tr>\n",
       "      <th>223</th>\n",
       "      <td>LO08_171060_20150211</td>\n",
       "      <td>0.526032</td>\n",
       "      <td>1.423642e+09</td>\n",
       "      <td>\"32.55533900429077-0.37257442274139246\"</td>\n",
       "      <td>2015-02-11 08:01:10.476000000</td>\n",
       "    </tr>\n",
       "    <tr>\n",
       "      <th>224</th>\n",
       "      <td>LO08_171060_20201107</td>\n",
       "      <td>0.089049</td>\n",
       "      <td>1.604736e+09</td>\n",
       "      <td>\"32.55533900429077-0.37257442274139246\"</td>\n",
       "      <td>2020-11-07 08:01:37.308999936</td>\n",
       "    </tr>\n",
       "  </tbody>\n",
       "</table>\n",
       "<p>225 rows × 5 columns</p>\n",
       "</div>"
      ],
      "text/plain": [
       "             system:index      NDVI  system:time_start  \\\n",
       "0    LC08_171060_20130426  0.414949       1.366963e+09   \n",
       "1    LC08_171060_20130512  0.688853       1.368346e+09   \n",
       "2    LC08_171060_20130528  0.628901       1.369728e+09   \n",
       "3    LC08_171060_20130613  0.270058       1.371111e+09   \n",
       "4    LC08_171060_20130629  0.319720       1.372493e+09   \n",
       "..                    ...       ...                ...   \n",
       "220  LC08_171060_20231202  0.125058       1.701504e+09   \n",
       "221  LC08_171060_20231218  0.343864       1.702886e+09   \n",
       "222  LC08_172060_20130410  0.750703       1.365581e+09   \n",
       "223  LO08_171060_20150211  0.526032       1.423642e+09   \n",
       "224  LO08_171060_20201107  0.089049       1.604736e+09   \n",
       "\n",
       "                                        .geo                    time_stamp  \n",
       "0    \"32.55533900429077-0.37257442274139246\" 2013-04-26 08:03:04.530999808  \n",
       "1    \"32.55533900429077-0.37257442274139246\" 2013-05-12 08:03:15.390000128  \n",
       "2    \"32.55533900429077-0.37257442274139246\" 2013-05-28 08:03:22.964000000  \n",
       "3    \"32.55533900429077-0.37257442274139246\" 2013-06-13 08:03:19.063000064  \n",
       "4    \"32.55533900429077-0.37257442274139246\" 2013-06-29 08:03:17.296000000  \n",
       "..                                       ...                           ...  \n",
       "220  \"32.55533900429077-0.37257442274139246\" 2023-12-02 08:01:30.401999872  \n",
       "221  \"32.55533900429077-0.37257442274139246\" 2023-12-18 08:01:32.374000128  \n",
       "222  \"32.55533900429077-0.37257442274139246\" 2013-04-10 08:06:51.108000000  \n",
       "223  \"32.55533900429077-0.37257442274139246\" 2015-02-11 08:01:10.476000000  \n",
       "224  \"32.55533900429077-0.37257442274139246\" 2020-11-07 08:01:37.308999936  \n",
       "\n",
       "[225 rows x 5 columns]"
      ]
     },
     "execution_count": 65,
     "metadata": {},
     "output_type": "execute_result"
    }
   ],
   "source": [
    "# df.head()\n",
    "# type(df.iloc[0][\"system:time_start\"])\n",
    "# df[[\"time_stamp\"]] = df[[\"system:time_start\"]].apply(\n",
    "#     lambda x: datetime.utcfromtimestamp(float(x[0]/1000))\n",
    "# )\n",
    "\n",
    "df[[\"system:time_start\"]] = df[[\"system:time_start\"]].apply(lambda x: x/1000)\n",
    "df[\"time_stamp\"] = pd.to_datetime(df['system:time_start'], unit='s')\n",
    "df.head(n=len(df))\n",
    "\n",
    "\n",
    "df_points[[\"system:time_start\"]] = df_points[[\"system:time_start\"]].apply(lambda x: x/1000)\n",
    "df_points[\"time_stamp\"] = pd.to_datetime(df_points['system:time_start'], unit='s')\n",
    "df_points.head(n=len(df_points))"
   ]
  },
  {
   "cell_type": "code",
   "execution_count": 71,
   "metadata": {},
   "outputs": [
    {
     "data": {
      "text/html": [
       "<div>\n",
       "<style scoped>\n",
       "    .dataframe tbody tr th:only-of-type {\n",
       "        vertical-align: middle;\n",
       "    }\n",
       "\n",
       "    .dataframe tbody tr th {\n",
       "        vertical-align: top;\n",
       "    }\n",
       "\n",
       "    .dataframe thead th {\n",
       "        text-align: right;\n",
       "    }\n",
       "</style>\n",
       "<table border=\"1\" class=\"dataframe\">\n",
       "  <thead>\n",
       "    <tr style=\"text-align: right;\">\n",
       "      <th></th>\n",
       "      <th>time_stamp</th>\n",
       "      <th>NDVI</th>\n",
       "    </tr>\n",
       "  </thead>\n",
       "  <tbody>\n",
       "    <tr>\n",
       "      <th>0</th>\n",
       "      <td>2013-12-31</td>\n",
       "      <td>0.376184</td>\n",
       "    </tr>\n",
       "    <tr>\n",
       "      <th>1</th>\n",
       "      <td>2014-12-31</td>\n",
       "      <td>0.296156</td>\n",
       "    </tr>\n",
       "    <tr>\n",
       "      <th>2</th>\n",
       "      <td>2015-12-31</td>\n",
       "      <td>0.383028</td>\n",
       "    </tr>\n",
       "    <tr>\n",
       "      <th>3</th>\n",
       "      <td>2016-12-31</td>\n",
       "      <td>0.328619</td>\n",
       "    </tr>\n",
       "    <tr>\n",
       "      <th>4</th>\n",
       "      <td>2017-12-31</td>\n",
       "      <td>0.386999</td>\n",
       "    </tr>\n",
       "  </tbody>\n",
       "</table>\n",
       "</div>"
      ],
      "text/plain": [
       "  time_stamp      NDVI\n",
       "0 2013-12-31  0.376184\n",
       "1 2014-12-31  0.296156\n",
       "2 2015-12-31  0.383028\n",
       "3 2016-12-31  0.328619\n",
       "4 2017-12-31  0.386999"
      ]
     },
     "execution_count": 71,
     "metadata": {},
     "output_type": "execute_result"
    }
   ],
   "source": [
    "df_group = df_points[[\"NDVI\", \"time_stamp\"]]\n",
    "\n",
    "df_group.head()\n",
    "\n",
    "\n",
    "df_group.set_index('time_stamp', inplace=True)\n",
    "result_df = df_group.resample('Y').mean()\n",
    "result_df.reset_index(inplace=True)\n",
    "\n",
    "result_df.head()\n"
   ]
  },
  {
   "cell_type": "code",
   "execution_count": 72,
   "metadata": {},
   "outputs": [
    {
     "data": {
      "application/vnd.plotly.v1+json": {
       "config": {
        "plotlyServerURL": "https://plot.ly"
       },
       "data": [
        {
         "hovertemplate": "time_stamp=%{x}<br>NDVI=%{y}<extra></extra>",
         "legendgroup": "",
         "line": {
          "color": "#636efa",
          "dash": "solid"
         },
         "marker": {
          "symbol": "circle"
         },
         "mode": "lines",
         "name": "",
         "orientation": "v",
         "showlegend": false,
         "type": "scatter",
         "x": [
          "2013-12-31T00:00:00",
          "2014-12-31T00:00:00",
          "2015-12-31T00:00:00",
          "2016-12-31T00:00:00",
          "2017-12-31T00:00:00",
          "2018-12-31T00:00:00",
          "2019-12-31T00:00:00",
          "2020-12-31T00:00:00",
          "2021-12-31T00:00:00",
          "2022-12-31T00:00:00",
          "2023-12-31T00:00:00"
         ],
         "xaxis": "x",
         "y": [
          0.3761839709577592,
          0.29615576131398813,
          0.38302785347766244,
          0.32861857043175763,
          0.38699928214176943,
          0.29145947999159555,
          0.2868720047533969,
          0.2577193472688537,
          0.20834168941308912,
          0.23227915201028182,
          0.2533017516434418
         ],
         "yaxis": "y"
        }
       ],
       "layout": {
        "legend": {
         "tracegroupgap": 0
        },
        "template": {
         "data": {
          "bar": [
           {
            "error_x": {
             "color": "#2a3f5f"
            },
            "error_y": {
             "color": "#2a3f5f"
            },
            "marker": {
             "line": {
              "color": "#E5ECF6",
              "width": 0.5
             },
             "pattern": {
              "fillmode": "overlay",
              "size": 10,
              "solidity": 0.2
             }
            },
            "type": "bar"
           }
          ],
          "barpolar": [
           {
            "marker": {
             "line": {
              "color": "#E5ECF6",
              "width": 0.5
             },
             "pattern": {
              "fillmode": "overlay",
              "size": 10,
              "solidity": 0.2
             }
            },
            "type": "barpolar"
           }
          ],
          "carpet": [
           {
            "aaxis": {
             "endlinecolor": "#2a3f5f",
             "gridcolor": "white",
             "linecolor": "white",
             "minorgridcolor": "white",
             "startlinecolor": "#2a3f5f"
            },
            "baxis": {
             "endlinecolor": "#2a3f5f",
             "gridcolor": "white",
             "linecolor": "white",
             "minorgridcolor": "white",
             "startlinecolor": "#2a3f5f"
            },
            "type": "carpet"
           }
          ],
          "choropleth": [
           {
            "colorbar": {
             "outlinewidth": 0,
             "ticks": ""
            },
            "type": "choropleth"
           }
          ],
          "contour": [
           {
            "colorbar": {
             "outlinewidth": 0,
             "ticks": ""
            },
            "colorscale": [
             [
              0,
              "#0d0887"
             ],
             [
              0.1111111111111111,
              "#46039f"
             ],
             [
              0.2222222222222222,
              "#7201a8"
             ],
             [
              0.3333333333333333,
              "#9c179e"
             ],
             [
              0.4444444444444444,
              "#bd3786"
             ],
             [
              0.5555555555555556,
              "#d8576b"
             ],
             [
              0.6666666666666666,
              "#ed7953"
             ],
             [
              0.7777777777777778,
              "#fb9f3a"
             ],
             [
              0.8888888888888888,
              "#fdca26"
             ],
             [
              1,
              "#f0f921"
             ]
            ],
            "type": "contour"
           }
          ],
          "contourcarpet": [
           {
            "colorbar": {
             "outlinewidth": 0,
             "ticks": ""
            },
            "type": "contourcarpet"
           }
          ],
          "heatmap": [
           {
            "colorbar": {
             "outlinewidth": 0,
             "ticks": ""
            },
            "colorscale": [
             [
              0,
              "#0d0887"
             ],
             [
              0.1111111111111111,
              "#46039f"
             ],
             [
              0.2222222222222222,
              "#7201a8"
             ],
             [
              0.3333333333333333,
              "#9c179e"
             ],
             [
              0.4444444444444444,
              "#bd3786"
             ],
             [
              0.5555555555555556,
              "#d8576b"
             ],
             [
              0.6666666666666666,
              "#ed7953"
             ],
             [
              0.7777777777777778,
              "#fb9f3a"
             ],
             [
              0.8888888888888888,
              "#fdca26"
             ],
             [
              1,
              "#f0f921"
             ]
            ],
            "type": "heatmap"
           }
          ],
          "heatmapgl": [
           {
            "colorbar": {
             "outlinewidth": 0,
             "ticks": ""
            },
            "colorscale": [
             [
              0,
              "#0d0887"
             ],
             [
              0.1111111111111111,
              "#46039f"
             ],
             [
              0.2222222222222222,
              "#7201a8"
             ],
             [
              0.3333333333333333,
              "#9c179e"
             ],
             [
              0.4444444444444444,
              "#bd3786"
             ],
             [
              0.5555555555555556,
              "#d8576b"
             ],
             [
              0.6666666666666666,
              "#ed7953"
             ],
             [
              0.7777777777777778,
              "#fb9f3a"
             ],
             [
              0.8888888888888888,
              "#fdca26"
             ],
             [
              1,
              "#f0f921"
             ]
            ],
            "type": "heatmapgl"
           }
          ],
          "histogram": [
           {
            "marker": {
             "pattern": {
              "fillmode": "overlay",
              "size": 10,
              "solidity": 0.2
             }
            },
            "type": "histogram"
           }
          ],
          "histogram2d": [
           {
            "colorbar": {
             "outlinewidth": 0,
             "ticks": ""
            },
            "colorscale": [
             [
              0,
              "#0d0887"
             ],
             [
              0.1111111111111111,
              "#46039f"
             ],
             [
              0.2222222222222222,
              "#7201a8"
             ],
             [
              0.3333333333333333,
              "#9c179e"
             ],
             [
              0.4444444444444444,
              "#bd3786"
             ],
             [
              0.5555555555555556,
              "#d8576b"
             ],
             [
              0.6666666666666666,
              "#ed7953"
             ],
             [
              0.7777777777777778,
              "#fb9f3a"
             ],
             [
              0.8888888888888888,
              "#fdca26"
             ],
             [
              1,
              "#f0f921"
             ]
            ],
            "type": "histogram2d"
           }
          ],
          "histogram2dcontour": [
           {
            "colorbar": {
             "outlinewidth": 0,
             "ticks": ""
            },
            "colorscale": [
             [
              0,
              "#0d0887"
             ],
             [
              0.1111111111111111,
              "#46039f"
             ],
             [
              0.2222222222222222,
              "#7201a8"
             ],
             [
              0.3333333333333333,
              "#9c179e"
             ],
             [
              0.4444444444444444,
              "#bd3786"
             ],
             [
              0.5555555555555556,
              "#d8576b"
             ],
             [
              0.6666666666666666,
              "#ed7953"
             ],
             [
              0.7777777777777778,
              "#fb9f3a"
             ],
             [
              0.8888888888888888,
              "#fdca26"
             ],
             [
              1,
              "#f0f921"
             ]
            ],
            "type": "histogram2dcontour"
           }
          ],
          "mesh3d": [
           {
            "colorbar": {
             "outlinewidth": 0,
             "ticks": ""
            },
            "type": "mesh3d"
           }
          ],
          "parcoords": [
           {
            "line": {
             "colorbar": {
              "outlinewidth": 0,
              "ticks": ""
             }
            },
            "type": "parcoords"
           }
          ],
          "pie": [
           {
            "automargin": true,
            "type": "pie"
           }
          ],
          "scatter": [
           {
            "fillpattern": {
             "fillmode": "overlay",
             "size": 10,
             "solidity": 0.2
            },
            "type": "scatter"
           }
          ],
          "scatter3d": [
           {
            "line": {
             "colorbar": {
              "outlinewidth": 0,
              "ticks": ""
             }
            },
            "marker": {
             "colorbar": {
              "outlinewidth": 0,
              "ticks": ""
             }
            },
            "type": "scatter3d"
           }
          ],
          "scattercarpet": [
           {
            "marker": {
             "colorbar": {
              "outlinewidth": 0,
              "ticks": ""
             }
            },
            "type": "scattercarpet"
           }
          ],
          "scattergeo": [
           {
            "marker": {
             "colorbar": {
              "outlinewidth": 0,
              "ticks": ""
             }
            },
            "type": "scattergeo"
           }
          ],
          "scattergl": [
           {
            "marker": {
             "colorbar": {
              "outlinewidth": 0,
              "ticks": ""
             }
            },
            "type": "scattergl"
           }
          ],
          "scattermapbox": [
           {
            "marker": {
             "colorbar": {
              "outlinewidth": 0,
              "ticks": ""
             }
            },
            "type": "scattermapbox"
           }
          ],
          "scatterpolar": [
           {
            "marker": {
             "colorbar": {
              "outlinewidth": 0,
              "ticks": ""
             }
            },
            "type": "scatterpolar"
           }
          ],
          "scatterpolargl": [
           {
            "marker": {
             "colorbar": {
              "outlinewidth": 0,
              "ticks": ""
             }
            },
            "type": "scatterpolargl"
           }
          ],
          "scatterternary": [
           {
            "marker": {
             "colorbar": {
              "outlinewidth": 0,
              "ticks": ""
             }
            },
            "type": "scatterternary"
           }
          ],
          "surface": [
           {
            "colorbar": {
             "outlinewidth": 0,
             "ticks": ""
            },
            "colorscale": [
             [
              0,
              "#0d0887"
             ],
             [
              0.1111111111111111,
              "#46039f"
             ],
             [
              0.2222222222222222,
              "#7201a8"
             ],
             [
              0.3333333333333333,
              "#9c179e"
             ],
             [
              0.4444444444444444,
              "#bd3786"
             ],
             [
              0.5555555555555556,
              "#d8576b"
             ],
             [
              0.6666666666666666,
              "#ed7953"
             ],
             [
              0.7777777777777778,
              "#fb9f3a"
             ],
             [
              0.8888888888888888,
              "#fdca26"
             ],
             [
              1,
              "#f0f921"
             ]
            ],
            "type": "surface"
           }
          ],
          "table": [
           {
            "cells": {
             "fill": {
              "color": "#EBF0F8"
             },
             "line": {
              "color": "white"
             }
            },
            "header": {
             "fill": {
              "color": "#C8D4E3"
             },
             "line": {
              "color": "white"
             }
            },
            "type": "table"
           }
          ]
         },
         "layout": {
          "annotationdefaults": {
           "arrowcolor": "#2a3f5f",
           "arrowhead": 0,
           "arrowwidth": 1
          },
          "autotypenumbers": "strict",
          "coloraxis": {
           "colorbar": {
            "outlinewidth": 0,
            "ticks": ""
           }
          },
          "colorscale": {
           "diverging": [
            [
             0,
             "#8e0152"
            ],
            [
             0.1,
             "#c51b7d"
            ],
            [
             0.2,
             "#de77ae"
            ],
            [
             0.3,
             "#f1b6da"
            ],
            [
             0.4,
             "#fde0ef"
            ],
            [
             0.5,
             "#f7f7f7"
            ],
            [
             0.6,
             "#e6f5d0"
            ],
            [
             0.7,
             "#b8e186"
            ],
            [
             0.8,
             "#7fbc41"
            ],
            [
             0.9,
             "#4d9221"
            ],
            [
             1,
             "#276419"
            ]
           ],
           "sequential": [
            [
             0,
             "#0d0887"
            ],
            [
             0.1111111111111111,
             "#46039f"
            ],
            [
             0.2222222222222222,
             "#7201a8"
            ],
            [
             0.3333333333333333,
             "#9c179e"
            ],
            [
             0.4444444444444444,
             "#bd3786"
            ],
            [
             0.5555555555555556,
             "#d8576b"
            ],
            [
             0.6666666666666666,
             "#ed7953"
            ],
            [
             0.7777777777777778,
             "#fb9f3a"
            ],
            [
             0.8888888888888888,
             "#fdca26"
            ],
            [
             1,
             "#f0f921"
            ]
           ],
           "sequentialminus": [
            [
             0,
             "#0d0887"
            ],
            [
             0.1111111111111111,
             "#46039f"
            ],
            [
             0.2222222222222222,
             "#7201a8"
            ],
            [
             0.3333333333333333,
             "#9c179e"
            ],
            [
             0.4444444444444444,
             "#bd3786"
            ],
            [
             0.5555555555555556,
             "#d8576b"
            ],
            [
             0.6666666666666666,
             "#ed7953"
            ],
            [
             0.7777777777777778,
             "#fb9f3a"
            ],
            [
             0.8888888888888888,
             "#fdca26"
            ],
            [
             1,
             "#f0f921"
            ]
           ]
          },
          "colorway": [
           "#636efa",
           "#EF553B",
           "#00cc96",
           "#ab63fa",
           "#FFA15A",
           "#19d3f3",
           "#FF6692",
           "#B6E880",
           "#FF97FF",
           "#FECB52"
          ],
          "font": {
           "color": "#2a3f5f"
          },
          "geo": {
           "bgcolor": "white",
           "lakecolor": "white",
           "landcolor": "#E5ECF6",
           "showlakes": true,
           "showland": true,
           "subunitcolor": "white"
          },
          "hoverlabel": {
           "align": "left"
          },
          "hovermode": "closest",
          "mapbox": {
           "style": "light"
          },
          "paper_bgcolor": "white",
          "plot_bgcolor": "#E5ECF6",
          "polar": {
           "angularaxis": {
            "gridcolor": "white",
            "linecolor": "white",
            "ticks": ""
           },
           "bgcolor": "#E5ECF6",
           "radialaxis": {
            "gridcolor": "white",
            "linecolor": "white",
            "ticks": ""
           }
          },
          "scene": {
           "xaxis": {
            "backgroundcolor": "#E5ECF6",
            "gridcolor": "white",
            "gridwidth": 2,
            "linecolor": "white",
            "showbackground": true,
            "ticks": "",
            "zerolinecolor": "white"
           },
           "yaxis": {
            "backgroundcolor": "#E5ECF6",
            "gridcolor": "white",
            "gridwidth": 2,
            "linecolor": "white",
            "showbackground": true,
            "ticks": "",
            "zerolinecolor": "white"
           },
           "zaxis": {
            "backgroundcolor": "#E5ECF6",
            "gridcolor": "white",
            "gridwidth": 2,
            "linecolor": "white",
            "showbackground": true,
            "ticks": "",
            "zerolinecolor": "white"
           }
          },
          "shapedefaults": {
           "line": {
            "color": "#2a3f5f"
           }
          },
          "ternary": {
           "aaxis": {
            "gridcolor": "white",
            "linecolor": "white",
            "ticks": ""
           },
           "baxis": {
            "gridcolor": "white",
            "linecolor": "white",
            "ticks": ""
           },
           "bgcolor": "#E5ECF6",
           "caxis": {
            "gridcolor": "white",
            "linecolor": "white",
            "ticks": ""
           }
          },
          "title": {
           "x": 0.05
          },
          "xaxis": {
           "automargin": true,
           "gridcolor": "white",
           "linecolor": "white",
           "ticks": "",
           "title": {
            "standoff": 15
           },
           "zerolinecolor": "white",
           "zerolinewidth": 2
          },
          "yaxis": {
           "automargin": true,
           "gridcolor": "white",
           "linecolor": "white",
           "ticks": "",
           "title": {
            "standoff": 15
           },
           "zerolinecolor": "white",
           "zerolinewidth": 2
          }
         }
        },
        "title": {
         "text": "NDVI time"
        },
        "xaxis": {
         "anchor": "y",
         "domain": [
          0,
          1
         ],
         "title": {
          "text": "time_stamp"
         }
        },
        "yaxis": {
         "anchor": "x",
         "domain": [
          0,
          1
         ],
         "title": {
          "text": "NDVI"
         }
        }
       }
      }
     },
     "metadata": {},
     "output_type": "display_data"
    }
   ],
   "source": [
    "fig = px.line(result_df[[\"NDVI\", \"time_stamp\"]], x='time_stamp', y='NDVI', title='NDVI time')\n",
    "# fig = px.bar(df_points[[\"NDVI\", \"time_stamp\", \".geo\"]], x='time_stamp', y='NDVI', barmode='stack', title='NDVI time')\n",
    "fig.show()"
   ]
  },
  {
   "cell_type": "code",
   "execution_count": 67,
   "metadata": {},
   "outputs": [
    {
     "data": {
      "application/vnd.plotly.v1+json": {
       "config": {
        "plotlyServerURL": "https://plot.ly"
       },
       "data": [
        {
         "hovertemplate": ".geo=\"32.55533900429077-0.37257442274139246\"<br>time_stamp=%{x}<br>NDVI=%{y}<extra></extra>",
         "legendgroup": "\"32.55533900429077-0.37257442274139246\"",
         "line": {
          "color": "#636efa",
          "dash": "solid"
         },
         "marker": {
          "symbol": "circle"
         },
         "mode": "lines",
         "name": "\"32.55533900429077-0.37257442274139246\"",
         "orientation": "v",
         "showlegend": true,
         "type": "scatter",
         "x": [
          "2013-04-26T08:03:04.530999",
          "2013-05-12T08:03:15.390000",
          "2013-05-28T08:03:22.964000",
          "2013-06-13T08:03:19.063000",
          "2013-06-29T08:03:17.296000",
          "2013-07-15T08:03:18.492999",
          "2013-08-16T08:03:19.951000",
          "2013-09-01T08:03:22.301000",
          "2013-09-17T08:03:17.289999",
          "2013-10-03T08:03:12.762000",
          "2013-10-19T08:03:09.454999",
          "2013-11-04T08:03:04.324999",
          "2013-11-20T08:02:57.128000",
          "2013-12-06T08:02:56.723000",
          "2013-12-22T08:02:47.088999",
          "2014-01-07T08:02:38.336000",
          "2014-01-23T08:02:27.619000",
          "2014-02-08T08:02:16.867000",
          "2014-02-24T08:02:03.891000",
          "2014-03-12T08:01:51.950000",
          "2014-03-28T08:01:33.845999",
          "2014-04-13T08:01:20.750000",
          "2014-05-15T08:00:52.517999",
          "2014-05-31T08:00:55.288000",
          "2014-06-16T08:01:02.268000",
          "2014-07-02T08:01:06.525000",
          "2014-07-18T08:01:12.096000",
          "2014-08-03T08:01:19.168999",
          "2014-08-19T08:01:24.099000",
          "2014-09-20T08:01:26.453000",
          "2014-10-06T08:01:31.214999",
          "2014-10-22T08:01:33.480999",
          "2014-11-07T08:01:33.398000",
          "2014-12-09T08:01:26.362999",
          "2014-12-25T08:01:25.676000",
          "2015-01-10T08:01:22.693000",
          "2015-01-26T08:01:16.737999",
          "2015-02-27T08:01:06.711000",
          "2015-03-15T08:00:55.364000",
          "2015-04-16T08:00:42.739000",
          "2015-05-02T08:00:32.163000",
          "2015-05-18T08:00:21.536999",
          "2015-06-03T08:00:28.708000",
          "2015-06-19T08:00:38.127000",
          "2015-07-05T08:00:46.493999",
          "2015-07-21T08:00:54.648999",
          "2015-08-06T08:00:56.913000",
          "2015-08-22T08:01:05.494999",
          "2015-09-07T08:01:11.058000",
          "2015-09-23T08:01:18.795000",
          "2015-10-09T08:01:20.634000",
          "2015-11-26T08:01:28.841000",
          "2015-12-12T08:01:26.617000",
          "2015-12-28T08:01:27.170000",
          "2016-01-13T08:01:24.380999",
          "2016-01-29T08:01:23.551000",
          "2016-02-14T08:01:16.306999",
          "2016-03-01T08:01:13.233999",
          "2016-03-17T08:01:08.444000",
          "2016-04-02T08:00:58.500999",
          "2016-04-18T08:00:53.379000",
          "2016-05-04T08:00:56.892999",
          "2016-05-20T08:00:55.224000",
          "2016-06-05T08:01:00.325999",
          "2016-07-07T08:01:13.552999",
          "2016-07-23T08:01:19.124999",
          "2016-08-24T08:01:27.838000",
          "2016-09-09T08:01:32.755000",
          "2016-09-25T08:01:33.639000",
          "2016-10-11T08:01:38.247000",
          "2016-10-27T08:01:40.724999",
          "2016-11-12T08:01:39.349999",
          "2016-11-28T08:01:39.860000",
          "2016-12-14T08:01:36.236999",
          "2016-12-30T08:01:33.480999",
          "2017-01-15T08:01:29.156000",
          "2017-01-31T08:01:22.620999",
          "2017-02-16T08:01:15.625999",
          "2017-03-04T08:01:09.400000",
          "2017-03-20T08:00:59.552000",
          "2017-04-05T08:00:52.312000",
          "2017-04-21T08:00:43.068999",
          "2017-05-07T08:00:39.528000",
          "2017-05-23T08:00:50.953999",
          "2017-06-08T08:00:59.244000",
          "2017-06-24T08:01:04.772999",
          "2017-07-10T08:01:07.779000",
          "2017-07-26T08:01:14.871000",
          "2017-08-11T08:01:21.316000",
          "2017-08-27T08:01:25.288999",
          "2017-09-12T08:01:26.099000",
          "2017-09-28T08:01:32.668000",
          "2017-10-30T08:01:37.660999",
          "2017-11-15T08:01:34.444000",
          "2017-12-01T08:01:28.376000",
          "2017-12-17T08:01:30.693000",
          "2018-01-02T08:01:28.404999",
          "2018-01-18T08:01:21.119000",
          "2018-02-03T08:01:11.664999",
          "2018-02-19T08:01:06.470000",
          "2018-03-07T08:00:58.420000",
          "2018-03-23T08:00:50.463000",
          "2018-04-24T08:00:33.316000",
          "2018-05-10T08:00:23.953999",
          "2018-05-26T08:00:11.724999",
          "2018-06-11T08:00:10.306999",
          "2018-06-27T08:00:20.852999",
          "2018-07-13T08:00:28.948000",
          "2018-07-29T08:00:35.688000",
          "2018-08-14T08:00:45.075000",
          "2018-08-30T08:00:52.236000",
          "2018-09-15T08:00:57",
          "2018-10-01T08:01:03.976000",
          "2018-10-17T08:01:10.719000",
          "2018-11-02T08:01:14.701999",
          "2018-11-18T08:01:15.822000",
          "2018-12-04T08:01:13.988000",
          "2018-12-20T08:01:12.160999",
          "2019-01-05T08:01:11.600000",
          "2019-02-06T08:01:05.380000",
          "2019-02-22T08:01:02.572999",
          "2019-03-10T08:00:57.239000",
          "2019-03-26T08:00:53.532999",
          "2019-04-11T08:00:48.937999",
          "2019-04-27T08:00:43.313999",
          "2019-05-13T08:00:52.740000",
          "2019-05-29T08:01:01.917999",
          "2019-06-14T08:01:08.840000",
          "2019-07-16T08:01:16.459000",
          "2019-08-01T08:01:22.880999",
          "2019-08-17T08:01:28.320000",
          "2019-09-02T08:01:31.812000",
          "2019-09-18T08:01:37.256000",
          "2019-10-04T08:01:41.566999",
          "2019-10-20T08:01:43.417999",
          "2019-11-05T08:01:42.494999",
          "2019-11-21T08:01:38.680000",
          "2019-12-07T08:01:38.433000",
          "2020-01-08T08:01:31.512000",
          "2020-01-24T08:01:27.652000",
          "2020-02-09T08:01:22.734999",
          "2020-02-25T08:01:18.948000",
          "2020-03-12T08:01:12.576999",
          "2020-03-28T08:01:03.760000",
          "2020-04-29T08:00:48.584000",
          "2020-05-15T08:00:44.720000",
          "2020-05-31T08:00:49.009999",
          "2020-06-16T08:00:59.042000",
          "2020-07-02T08:01:06.974999",
          "2020-07-18T08:01:12.928999",
          "2020-08-03T08:01:16.943000",
          "2020-08-19T08:01:22.604000",
          "2020-09-04T08:01:30.360999",
          "2020-09-20T08:01:35.948000",
          "2020-10-06T08:01:39.176999",
          "2020-10-22T08:01:39.734999",
          "2020-11-23T08:01:39.177999",
          "2020-12-09T08:01:40.855000",
          "2020-12-25T08:01:38.517999",
          "2021-01-26T08:01:28.043000",
          "2021-02-27T08:01:19.648999",
          "2021-03-15T08:01:10.584000",
          "2021-03-31T08:01:06.380000",
          "2021-04-16T08:01:00.562000",
          "2021-05-02T08:00:51.436000",
          "2021-05-18T08:00:56.772000",
          "2021-06-03T08:01:05.298000",
          "2021-06-19T08:01:10.976000",
          "2021-07-05T08:01:13.813999",
          "2021-07-21T08:01:17.507000",
          "2021-08-06T08:01:25.260000",
          "2021-08-22T08:01:30.374000",
          "2021-09-07T08:01:35.124999",
          "2021-09-23T08:01:37.611000",
          "2021-10-09T08:01:43.796000",
          "2021-10-25T08:01:45.698999",
          "2021-11-10T08:01:42.642999",
          "2021-11-26T08:01:40.934000",
          "2021-12-12T08:01:40.764000",
          "2021-12-28T08:01:35.712999",
          "2022-01-13T08:01:33.352000",
          "2022-01-29T08:01:27.920999",
          "2022-02-14T08:01:24.520999",
          "2022-03-02T08:01:20.648000",
          "2022-03-18T08:01:13.621999",
          "2022-04-03T08:01:04.016999",
          "2022-04-19T08:01:09.204999",
          "2022-05-05T08:01:10.128999",
          "2022-05-21T08:01:16.303000",
          "2022-06-06T08:01:23.819000",
          "2022-06-22T08:01:32.912000",
          "2022-07-08T08:01:34.092000",
          "2022-07-24T08:01:40.038000",
          "2022-08-09T08:01:49.190000",
          "2022-08-25T08:01:51.912000",
          "2022-09-10T08:01:55.645999",
          "2022-09-26T08:01:58.620000",
          "2022-10-12T08:01:50.309999",
          "2022-10-28T08:01:57.729000",
          "2022-11-29T08:01:53.428000",
          "2022-12-15T08:01:48.657000",
          "2022-12-31T08:01:44.667000",
          "2023-01-16T08:01:37.355000",
          "2023-02-01T08:01:42.676999",
          "2023-02-17T08:01:33.469000",
          "2023-03-05T08:01:21.187000",
          "2023-04-06T08:01:00.150000",
          "2023-05-08T08:00:41.979000",
          "2023-05-24T08:00:37.842000",
          "2023-06-09T08:00:44.440999",
          "2023-06-25T08:00:50.680999",
          "2023-07-11T08:01:01.452000",
          "2023-07-27T08:01:07.431000",
          "2023-08-12T08:01:12.081000",
          "2023-08-28T08:01:19.739000",
          "2023-09-13T08:01:22.265000",
          "2023-09-29T08:01:27.013999",
          "2023-10-15T08:01:29.516999",
          "2023-10-31T08:01:32.729000",
          "2023-11-16T08:01:31.947000",
          "2023-12-02T08:01:30.401999",
          "2023-12-18T08:01:32.374000",
          "2013-04-10T08:06:51.108000",
          "2015-02-11T08:01:10.476000",
          "2020-11-07T08:01:37.308999"
         ],
         "xaxis": "x",
         "y": [
          0.4149493373496952,
          0.6888529912064592,
          0.6289010654191971,
          0.2700579391916434,
          0.3197196002278926,
          0.5966982319381264,
          0.1254189663633245,
          0.1655319907505114,
          0.2520049714214983,
          0.1725721810600348,
          0.5227595761162279,
          0.3612256357085578,
          0.0377003376181365,
          0.1282799888262555,
          0.5835682214402581,
          0.5569604310598977,
          0.036167072384956,
          0.3432869191568262,
          0.1769020099427425,
          0.0753947842541229,
          0.2055997837731583,
          0.5979734930128047,
          0.1714794218866201,
          0.2426070868832311,
          0.1061848586152481,
          0.4929242525018767,
          0.190710715048292,
          0.0961587437132972,
          0.5806451627613797,
          0.4943314136315223,
          0.1916115192370876,
          0.7260887366354767,
          0.6082252062761057,
          0.0004460922847179128,
          0.0294175232203997,
          0.4892943940598199,
          0.5911817345737433,
          0.4972385756746293,
          0.5524475761471677,
          0.0405682608255346,
          -0.00031437992195519214,
          0.0853824964718044,
          0.6474449785169724,
          0.6907953665675926,
          0.6477626371684899,
          0.6009296122740333,
          0.6420479417631026,
          0.1326653947697081,
          0.3845415587516765,
          0.0846931266473919,
          0.6126618074342707,
          0.186039438964768,
          0.1525371754916152,
          0.0966078434209758,
          0.0735974225754408,
          0.5010058025273437,
          0.5203516474728372,
          0.4856183302342056,
          0.0428922555497541,
          0.0885449809335429,
          0.1438310194292404,
          0.1323024841170499,
          0.2482290754709152,
          0.1545104561944127,
          0.4489069128679083,
          0.0529884722023093,
          0.0676157737485818,
          0.5665003876281353,
          0.5900099706305924,
          0.5076057002880272,
          0.591802216904656,
          0.6669253959260643,
          0.5526232387190321,
          0.0476921859651957,
          0.4174362496816654,
          0.4847321280254774,
          0.0197026115835555,
          0.145115265720378,
          0.0407252345231735,
          0.292148129986835,
          0.5529587535425002,
          0.6193437485929766,
          0.1817943394445491,
          0.1232729478111338,
          0.5371226034498773,
          0.455699477789697,
          0.6205986305141044,
          0.6684233716526394,
          0.5931203542901128,
          0.1823934752076772,
          0.580634450716503,
          0.5754585981230845,
          0.0299098256988921,
          0.2055839172127916,
          0.6496495655093576,
          0.5685974955818422,
          0.0654549771428887,
          0.4811918086554529,
          0.5552406322012474,
          0.1392317616679954,
          0.1174148204106477,
          0.6860852740739382,
          0.0011508691875815,
          0.627666963637394,
          0.0528837578900127,
          0.1288906724674094,
          0.050404711350316,
          0.0208641934926145,
          0.4504379800882762,
          0.1432949015845872,
          0.2046639866099804,
          0.5970844166788242,
          0.4309183277375155,
          0.4572323250265933,
          0.3582554377503598,
          0.5693236866713312,
          0.2420751772100598,
          0.0323418782800764,
          0.5881381692828829,
          0.3747386109734794,
          0.1763743315099664,
          0.128033139326067,
          0.3430804190741877,
          0.4351761019883206,
          0.0588870759281365,
          0.3024427806129263,
          0.5030415045841541,
          0.1408250465650651,
          0.2534246629011493,
          0.1010258697341514,
          0.4979449343652778,
          0.1442871008802091,
          0.2192945760553411,
          0.3980479986194968,
          0.5458236058520155,
          0.1403904534709979,
          0.3425737233690368,
          0.0438899899750763,
          0.427201563063084,
          0.3800122932673389,
          0.445482838619364,
          0.0871619555718811,
          0.051647068244914,
          0.4742558798863511,
          0.253606935121236,
          0.1359847974292476,
          0.0435976716764571,
          0.1794601627781147,
          0.0374732973603913,
          0.0833233586584667,
          0.4467630295755173,
          0.2569804815653759,
          0.118965788277052,
          0.4669848902787407,
          0.0843503575537733,
          0.4308414746779657,
          0.2725073016116845,
          0.5198035209987835,
          0.3843718011394988,
          0.3634553948848012,
          0.3860319517602898,
          0.4283455653362128,
          0.0917610055919605,
          0.0278662003691931,
          0.1806524876605634,
          -0.0004655880443582992,
          0.1481203345584813,
          0.0608779123001904,
          0.1734273857677672,
          0.0857975297932387,
          0.0352426750873373,
          0.2906386907716125,
          0.0748622533240523,
          0.3820186631059958,
          0.2752546975305454,
          0.2994469239297674,
          0.4730021846420019,
          0.1391051157345404,
          0.3973135702255119,
          0.0624205233451665,
          0.3077909929446942,
          0.3638699597025788,
          0.0763172825685314,
          0.2053371737405164,
          0.2500133513650936,
          0.1417981779953252,
          0.3206634855388894,
          0.5268353362845406,
          0.3879839579866917,
          0.0552700631777444,
          0.3533341835953264,
          0.0671934386256772,
          0.1354965972159955,
          0.1174460761200579,
          0.3361519606899661,
          0.2240437239082646,
          0.1782391994508507,
          0.4902089878054447,
          0.1724903693274615,
          0.1446260766452056,
          0.2249148218961483,
          0.0301161276411958,
          0.1875136842230811,
          0.3537863416610666,
          0.0230222621746567,
          0.4337474645569198,
          0.3807523023369615,
          0.2364470844922606,
          0.420732816901906,
          0.0176228657031368,
          0.3753938985566011,
          0.164095265034374,
          0.3319447745417886,
          0.3755148425583613,
          -0.0049235209731082,
          0.348324937452092,
          0.0159503784780443,
          0.1948939188421487,
          0.2987416656417171,
          0.4435527169841147,
          0.1250575511643589,
          0.3438637825383555,
          0.7507025006863282,
          0.5260315299519077,
          0.0890491725595439
         ],
         "yaxis": "y"
        }
       ],
       "layout": {
        "legend": {
         "title": {
          "text": ".geo"
         },
         "tracegroupgap": 0
        },
        "template": {
         "data": {
          "bar": [
           {
            "error_x": {
             "color": "#2a3f5f"
            },
            "error_y": {
             "color": "#2a3f5f"
            },
            "marker": {
             "line": {
              "color": "#E5ECF6",
              "width": 0.5
             },
             "pattern": {
              "fillmode": "overlay",
              "size": 10,
              "solidity": 0.2
             }
            },
            "type": "bar"
           }
          ],
          "barpolar": [
           {
            "marker": {
             "line": {
              "color": "#E5ECF6",
              "width": 0.5
             },
             "pattern": {
              "fillmode": "overlay",
              "size": 10,
              "solidity": 0.2
             }
            },
            "type": "barpolar"
           }
          ],
          "carpet": [
           {
            "aaxis": {
             "endlinecolor": "#2a3f5f",
             "gridcolor": "white",
             "linecolor": "white",
             "minorgridcolor": "white",
             "startlinecolor": "#2a3f5f"
            },
            "baxis": {
             "endlinecolor": "#2a3f5f",
             "gridcolor": "white",
             "linecolor": "white",
             "minorgridcolor": "white",
             "startlinecolor": "#2a3f5f"
            },
            "type": "carpet"
           }
          ],
          "choropleth": [
           {
            "colorbar": {
             "outlinewidth": 0,
             "ticks": ""
            },
            "type": "choropleth"
           }
          ],
          "contour": [
           {
            "colorbar": {
             "outlinewidth": 0,
             "ticks": ""
            },
            "colorscale": [
             [
              0,
              "#0d0887"
             ],
             [
              0.1111111111111111,
              "#46039f"
             ],
             [
              0.2222222222222222,
              "#7201a8"
             ],
             [
              0.3333333333333333,
              "#9c179e"
             ],
             [
              0.4444444444444444,
              "#bd3786"
             ],
             [
              0.5555555555555556,
              "#d8576b"
             ],
             [
              0.6666666666666666,
              "#ed7953"
             ],
             [
              0.7777777777777778,
              "#fb9f3a"
             ],
             [
              0.8888888888888888,
              "#fdca26"
             ],
             [
              1,
              "#f0f921"
             ]
            ],
            "type": "contour"
           }
          ],
          "contourcarpet": [
           {
            "colorbar": {
             "outlinewidth": 0,
             "ticks": ""
            },
            "type": "contourcarpet"
           }
          ],
          "heatmap": [
           {
            "colorbar": {
             "outlinewidth": 0,
             "ticks": ""
            },
            "colorscale": [
             [
              0,
              "#0d0887"
             ],
             [
              0.1111111111111111,
              "#46039f"
             ],
             [
              0.2222222222222222,
              "#7201a8"
             ],
             [
              0.3333333333333333,
              "#9c179e"
             ],
             [
              0.4444444444444444,
              "#bd3786"
             ],
             [
              0.5555555555555556,
              "#d8576b"
             ],
             [
              0.6666666666666666,
              "#ed7953"
             ],
             [
              0.7777777777777778,
              "#fb9f3a"
             ],
             [
              0.8888888888888888,
              "#fdca26"
             ],
             [
              1,
              "#f0f921"
             ]
            ],
            "type": "heatmap"
           }
          ],
          "heatmapgl": [
           {
            "colorbar": {
             "outlinewidth": 0,
             "ticks": ""
            },
            "colorscale": [
             [
              0,
              "#0d0887"
             ],
             [
              0.1111111111111111,
              "#46039f"
             ],
             [
              0.2222222222222222,
              "#7201a8"
             ],
             [
              0.3333333333333333,
              "#9c179e"
             ],
             [
              0.4444444444444444,
              "#bd3786"
             ],
             [
              0.5555555555555556,
              "#d8576b"
             ],
             [
              0.6666666666666666,
              "#ed7953"
             ],
             [
              0.7777777777777778,
              "#fb9f3a"
             ],
             [
              0.8888888888888888,
              "#fdca26"
             ],
             [
              1,
              "#f0f921"
             ]
            ],
            "type": "heatmapgl"
           }
          ],
          "histogram": [
           {
            "marker": {
             "pattern": {
              "fillmode": "overlay",
              "size": 10,
              "solidity": 0.2
             }
            },
            "type": "histogram"
           }
          ],
          "histogram2d": [
           {
            "colorbar": {
             "outlinewidth": 0,
             "ticks": ""
            },
            "colorscale": [
             [
              0,
              "#0d0887"
             ],
             [
              0.1111111111111111,
              "#46039f"
             ],
             [
              0.2222222222222222,
              "#7201a8"
             ],
             [
              0.3333333333333333,
              "#9c179e"
             ],
             [
              0.4444444444444444,
              "#bd3786"
             ],
             [
              0.5555555555555556,
              "#d8576b"
             ],
             [
              0.6666666666666666,
              "#ed7953"
             ],
             [
              0.7777777777777778,
              "#fb9f3a"
             ],
             [
              0.8888888888888888,
              "#fdca26"
             ],
             [
              1,
              "#f0f921"
             ]
            ],
            "type": "histogram2d"
           }
          ],
          "histogram2dcontour": [
           {
            "colorbar": {
             "outlinewidth": 0,
             "ticks": ""
            },
            "colorscale": [
             [
              0,
              "#0d0887"
             ],
             [
              0.1111111111111111,
              "#46039f"
             ],
             [
              0.2222222222222222,
              "#7201a8"
             ],
             [
              0.3333333333333333,
              "#9c179e"
             ],
             [
              0.4444444444444444,
              "#bd3786"
             ],
             [
              0.5555555555555556,
              "#d8576b"
             ],
             [
              0.6666666666666666,
              "#ed7953"
             ],
             [
              0.7777777777777778,
              "#fb9f3a"
             ],
             [
              0.8888888888888888,
              "#fdca26"
             ],
             [
              1,
              "#f0f921"
             ]
            ],
            "type": "histogram2dcontour"
           }
          ],
          "mesh3d": [
           {
            "colorbar": {
             "outlinewidth": 0,
             "ticks": ""
            },
            "type": "mesh3d"
           }
          ],
          "parcoords": [
           {
            "line": {
             "colorbar": {
              "outlinewidth": 0,
              "ticks": ""
             }
            },
            "type": "parcoords"
           }
          ],
          "pie": [
           {
            "automargin": true,
            "type": "pie"
           }
          ],
          "scatter": [
           {
            "fillpattern": {
             "fillmode": "overlay",
             "size": 10,
             "solidity": 0.2
            },
            "type": "scatter"
           }
          ],
          "scatter3d": [
           {
            "line": {
             "colorbar": {
              "outlinewidth": 0,
              "ticks": ""
             }
            },
            "marker": {
             "colorbar": {
              "outlinewidth": 0,
              "ticks": ""
             }
            },
            "type": "scatter3d"
           }
          ],
          "scattercarpet": [
           {
            "marker": {
             "colorbar": {
              "outlinewidth": 0,
              "ticks": ""
             }
            },
            "type": "scattercarpet"
           }
          ],
          "scattergeo": [
           {
            "marker": {
             "colorbar": {
              "outlinewidth": 0,
              "ticks": ""
             }
            },
            "type": "scattergeo"
           }
          ],
          "scattergl": [
           {
            "marker": {
             "colorbar": {
              "outlinewidth": 0,
              "ticks": ""
             }
            },
            "type": "scattergl"
           }
          ],
          "scattermapbox": [
           {
            "marker": {
             "colorbar": {
              "outlinewidth": 0,
              "ticks": ""
             }
            },
            "type": "scattermapbox"
           }
          ],
          "scatterpolar": [
           {
            "marker": {
             "colorbar": {
              "outlinewidth": 0,
              "ticks": ""
             }
            },
            "type": "scatterpolar"
           }
          ],
          "scatterpolargl": [
           {
            "marker": {
             "colorbar": {
              "outlinewidth": 0,
              "ticks": ""
             }
            },
            "type": "scatterpolargl"
           }
          ],
          "scatterternary": [
           {
            "marker": {
             "colorbar": {
              "outlinewidth": 0,
              "ticks": ""
             }
            },
            "type": "scatterternary"
           }
          ],
          "surface": [
           {
            "colorbar": {
             "outlinewidth": 0,
             "ticks": ""
            },
            "colorscale": [
             [
              0,
              "#0d0887"
             ],
             [
              0.1111111111111111,
              "#46039f"
             ],
             [
              0.2222222222222222,
              "#7201a8"
             ],
             [
              0.3333333333333333,
              "#9c179e"
             ],
             [
              0.4444444444444444,
              "#bd3786"
             ],
             [
              0.5555555555555556,
              "#d8576b"
             ],
             [
              0.6666666666666666,
              "#ed7953"
             ],
             [
              0.7777777777777778,
              "#fb9f3a"
             ],
             [
              0.8888888888888888,
              "#fdca26"
             ],
             [
              1,
              "#f0f921"
             ]
            ],
            "type": "surface"
           }
          ],
          "table": [
           {
            "cells": {
             "fill": {
              "color": "#EBF0F8"
             },
             "line": {
              "color": "white"
             }
            },
            "header": {
             "fill": {
              "color": "#C8D4E3"
             },
             "line": {
              "color": "white"
             }
            },
            "type": "table"
           }
          ]
         },
         "layout": {
          "annotationdefaults": {
           "arrowcolor": "#2a3f5f",
           "arrowhead": 0,
           "arrowwidth": 1
          },
          "autotypenumbers": "strict",
          "coloraxis": {
           "colorbar": {
            "outlinewidth": 0,
            "ticks": ""
           }
          },
          "colorscale": {
           "diverging": [
            [
             0,
             "#8e0152"
            ],
            [
             0.1,
             "#c51b7d"
            ],
            [
             0.2,
             "#de77ae"
            ],
            [
             0.3,
             "#f1b6da"
            ],
            [
             0.4,
             "#fde0ef"
            ],
            [
             0.5,
             "#f7f7f7"
            ],
            [
             0.6,
             "#e6f5d0"
            ],
            [
             0.7,
             "#b8e186"
            ],
            [
             0.8,
             "#7fbc41"
            ],
            [
             0.9,
             "#4d9221"
            ],
            [
             1,
             "#276419"
            ]
           ],
           "sequential": [
            [
             0,
             "#0d0887"
            ],
            [
             0.1111111111111111,
             "#46039f"
            ],
            [
             0.2222222222222222,
             "#7201a8"
            ],
            [
             0.3333333333333333,
             "#9c179e"
            ],
            [
             0.4444444444444444,
             "#bd3786"
            ],
            [
             0.5555555555555556,
             "#d8576b"
            ],
            [
             0.6666666666666666,
             "#ed7953"
            ],
            [
             0.7777777777777778,
             "#fb9f3a"
            ],
            [
             0.8888888888888888,
             "#fdca26"
            ],
            [
             1,
             "#f0f921"
            ]
           ],
           "sequentialminus": [
            [
             0,
             "#0d0887"
            ],
            [
             0.1111111111111111,
             "#46039f"
            ],
            [
             0.2222222222222222,
             "#7201a8"
            ],
            [
             0.3333333333333333,
             "#9c179e"
            ],
            [
             0.4444444444444444,
             "#bd3786"
            ],
            [
             0.5555555555555556,
             "#d8576b"
            ],
            [
             0.6666666666666666,
             "#ed7953"
            ],
            [
             0.7777777777777778,
             "#fb9f3a"
            ],
            [
             0.8888888888888888,
             "#fdca26"
            ],
            [
             1,
             "#f0f921"
            ]
           ]
          },
          "colorway": [
           "#636efa",
           "#EF553B",
           "#00cc96",
           "#ab63fa",
           "#FFA15A",
           "#19d3f3",
           "#FF6692",
           "#B6E880",
           "#FF97FF",
           "#FECB52"
          ],
          "font": {
           "color": "#2a3f5f"
          },
          "geo": {
           "bgcolor": "white",
           "lakecolor": "white",
           "landcolor": "#E5ECF6",
           "showlakes": true,
           "showland": true,
           "subunitcolor": "white"
          },
          "hoverlabel": {
           "align": "left"
          },
          "hovermode": "closest",
          "mapbox": {
           "style": "light"
          },
          "paper_bgcolor": "white",
          "plot_bgcolor": "#E5ECF6",
          "polar": {
           "angularaxis": {
            "gridcolor": "white",
            "linecolor": "white",
            "ticks": ""
           },
           "bgcolor": "#E5ECF6",
           "radialaxis": {
            "gridcolor": "white",
            "linecolor": "white",
            "ticks": ""
           }
          },
          "scene": {
           "xaxis": {
            "backgroundcolor": "#E5ECF6",
            "gridcolor": "white",
            "gridwidth": 2,
            "linecolor": "white",
            "showbackground": true,
            "ticks": "",
            "zerolinecolor": "white"
           },
           "yaxis": {
            "backgroundcolor": "#E5ECF6",
            "gridcolor": "white",
            "gridwidth": 2,
            "linecolor": "white",
            "showbackground": true,
            "ticks": "",
            "zerolinecolor": "white"
           },
           "zaxis": {
            "backgroundcolor": "#E5ECF6",
            "gridcolor": "white",
            "gridwidth": 2,
            "linecolor": "white",
            "showbackground": true,
            "ticks": "",
            "zerolinecolor": "white"
           }
          },
          "shapedefaults": {
           "line": {
            "color": "#2a3f5f"
           }
          },
          "ternary": {
           "aaxis": {
            "gridcolor": "white",
            "linecolor": "white",
            "ticks": ""
           },
           "baxis": {
            "gridcolor": "white",
            "linecolor": "white",
            "ticks": ""
           },
           "bgcolor": "#E5ECF6",
           "caxis": {
            "gridcolor": "white",
            "linecolor": "white",
            "ticks": ""
           }
          },
          "title": {
           "x": 0.05
          },
          "xaxis": {
           "automargin": true,
           "gridcolor": "white",
           "linecolor": "white",
           "ticks": "",
           "title": {
            "standoff": 15
           },
           "zerolinecolor": "white",
           "zerolinewidth": 2
          },
          "yaxis": {
           "automargin": true,
           "gridcolor": "white",
           "linecolor": "white",
           "ticks": "",
           "title": {
            "standoff": 15
           },
           "zerolinecolor": "white",
           "zerolinewidth": 2
          }
         }
        },
        "title": {
         "text": "NDVI time"
        },
        "xaxis": {
         "anchor": "y",
         "domain": [
          0,
          1
         ],
         "title": {
          "text": "time_stamp"
         }
        },
        "yaxis": {
         "anchor": "x",
         "domain": [
          0,
          1
         ],
         "title": {
          "text": "NDVI"
         }
        }
       }
      }
     },
     "metadata": {},
     "output_type": "display_data"
    }
   ],
   "source": [
    "# fig = px.scatter(df[[\"NDVI\", \"time_stamp\"]], x='time_stamp', y='NDVI', line_group=\".geo\", title='NDVI time')\n",
    "# fig.show()\n",
    "\n",
    "# fig = px.line(df_points[[\"NDVI\", \"time_stamp\", \".geo\"]], x='time_stamp', y='NDVI', color=\".geo\", line_group=\".geo\", title='NDVI time')\n",
    "fig = px.line(df_points[[\"NDVI\", \"time_stamp\", \".geo\"]], x='time_stamp', y='NDVI', color=\".geo\", title='NDVI time')\n",
    "# fig = px.bar(df_points[[\"NDVI\", \"time_stamp\", \".geo\"]], x='time_stamp', y='NDVI', barmode='stack', title='NDVI time')\n",
    "fig.show()"
   ]
  },
  {
   "cell_type": "code",
   "execution_count": null,
   "metadata": {},
   "outputs": [],
   "source": [
    "\"32.521706223521804-0.31411199439998355\"\n",
    "\n",
    "\"32.24045986012653-0.6051489547461403\""
   ]
  },
  {
   "cell_type": "code",
   "execution_count": 10,
   "metadata": {},
   "outputs": [
    {
     "data": {
      "text/html": [
       "<div style=\"width:100%;\"><div style=\"position:relative;width:100%;height:0;padding-bottom:60%;\"><span style=\"color:#565656\">Make this Notebook Trusted to load map: File -> Trust Notebook</span><iframe srcdoc=\"&lt;!DOCTYPE html&gt;\n",
       "&lt;html&gt;\n",
       "&lt;head&gt;\n",
       "    \n",
       "    &lt;meta http-equiv=&quot;content-type&quot; content=&quot;text/html; charset=UTF-8&quot; /&gt;\n",
       "    \n",
       "        &lt;script&gt;\n",
       "            L_NO_TOUCH = false;\n",
       "            L_DISABLE_3D = false;\n",
       "        &lt;/script&gt;\n",
       "    \n",
       "    &lt;style&gt;html, body {width: 100%;height: 100%;margin: 0;padding: 0;}&lt;/style&gt;\n",
       "    &lt;style&gt;#map {position:absolute;top:0;bottom:0;right:0;left:0;}&lt;/style&gt;\n",
       "    &lt;script src=&quot;https://cdn.jsdelivr.net/npm/leaflet@1.9.3/dist/leaflet.js&quot;&gt;&lt;/script&gt;\n",
       "    &lt;script src=&quot;https://code.jquery.com/jquery-3.7.1.min.js&quot;&gt;&lt;/script&gt;\n",
       "    &lt;script src=&quot;https://cdn.jsdelivr.net/npm/bootstrap@5.2.2/dist/js/bootstrap.bundle.min.js&quot;&gt;&lt;/script&gt;\n",
       "    &lt;script src=&quot;https://cdnjs.cloudflare.com/ajax/libs/Leaflet.awesome-markers/2.0.2/leaflet.awesome-markers.js&quot;&gt;&lt;/script&gt;\n",
       "    &lt;link rel=&quot;stylesheet&quot; href=&quot;https://cdn.jsdelivr.net/npm/leaflet@1.9.3/dist/leaflet.css&quot;/&gt;\n",
       "    &lt;link rel=&quot;stylesheet&quot; href=&quot;https://cdn.jsdelivr.net/npm/bootstrap@5.2.2/dist/css/bootstrap.min.css&quot;/&gt;\n",
       "    &lt;link rel=&quot;stylesheet&quot; href=&quot;https://netdna.bootstrapcdn.com/bootstrap/3.0.0/css/bootstrap.min.css&quot;/&gt;\n",
       "    &lt;link rel=&quot;stylesheet&quot; href=&quot;https://cdn.jsdelivr.net/npm/@fortawesome/fontawesome-free@6.2.0/css/all.min.css&quot;/&gt;\n",
       "    &lt;link rel=&quot;stylesheet&quot; href=&quot;https://cdnjs.cloudflare.com/ajax/libs/Leaflet.awesome-markers/2.0.2/leaflet.awesome-markers.css&quot;/&gt;\n",
       "    &lt;link rel=&quot;stylesheet&quot; href=&quot;https://cdn.jsdelivr.net/gh/python-visualization/folium/folium/templates/leaflet.awesome.rotate.min.css&quot;/&gt;\n",
       "    \n",
       "            &lt;meta name=&quot;viewport&quot; content=&quot;width=device-width,\n",
       "                initial-scale=1.0, maximum-scale=1.0, user-scalable=no&quot; /&gt;\n",
       "            &lt;style&gt;\n",
       "                #map_50ff2ca878dc0177f981ac633ea2b533 {\n",
       "                    position: relative;\n",
       "                    width: 100.0%;\n",
       "                    height: 100.0%;\n",
       "                    left: 0.0%;\n",
       "                    top: 0.0%;\n",
       "                }\n",
       "                .leaflet-container { font-size: 1rem; }\n",
       "            &lt;/style&gt;\n",
       "        \n",
       "&lt;/head&gt;\n",
       "&lt;body&gt;\n",
       "    \n",
       "    \n",
       "            &lt;div class=&quot;folium-map&quot; id=&quot;map_50ff2ca878dc0177f981ac633ea2b533&quot; &gt;&lt;/div&gt;\n",
       "        \n",
       "&lt;/body&gt;\n",
       "&lt;script&gt;\n",
       "    \n",
       "    \n",
       "            var map_50ff2ca878dc0177f981ac633ea2b533 = L.map(\n",
       "                &quot;map_50ff2ca878dc0177f981ac633ea2b533&quot;,\n",
       "                {\n",
       "                    center: [32.76, 0.62],\n",
       "                    crs: L.CRS.EPSG3857,\n",
       "                    zoom: 10,\n",
       "                    zoomControl: true,\n",
       "                    preferCanvas: false,\n",
       "                }\n",
       "            );\n",
       "\n",
       "            \n",
       "\n",
       "        \n",
       "    \n",
       "            var tile_layer_bf4345dce2975688890195ec81874f27 = L.tileLayer(\n",
       "                &quot;https://tile.openstreetmap.org/{z}/{x}/{y}.png&quot;,\n",
       "                {&quot;attribution&quot;: &quot;\\u0026copy; \\u003ca href=\\&quot;https://www.openstreetmap.org/copyright\\&quot;\\u003eOpenStreetMap\\u003c/a\\u003e contributors&quot;, &quot;detectRetina&quot;: false, &quot;maxNativeZoom&quot;: 19, &quot;maxZoom&quot;: 19, &quot;minZoom&quot;: 0, &quot;noWrap&quot;: false, &quot;opacity&quot;: 1, &quot;subdomains&quot;: &quot;abc&quot;, &quot;tms&quot;: false}\n",
       "            );\n",
       "        \n",
       "    \n",
       "            tile_layer_bf4345dce2975688890195ec81874f27.addTo(map_50ff2ca878dc0177f981ac633ea2b533);\n",
       "        \n",
       "&lt;/script&gt;\n",
       "&lt;/html&gt;\" style=\"position:absolute;width:100%;height:100%;left:0;top:0;border:none !important;\" allowfullscreen webkitallowfullscreen mozallowfullscreen></iframe></div></div>"
      ],
      "text/plain": [
       "<folium.folium.Map at 0x11cd1d160>"
      ]
     },
     "execution_count": 10,
     "metadata": {},
     "output_type": "execute_result"
    }
   ],
   "source": [
    "m = folium.Map(location=(32.76066013082815, 0.6157409271655917))\n",
    "m"
   ]
  },
  {
   "cell_type": "code",
   "execution_count": 54,
   "metadata": {},
   "outputs": [
    {
     "data": {
      "application/vnd.plotly.v1+json": {
       "config": {
        "plotlyServerURL": "https://plot.ly"
       },
       "data": [
        {
         "hovertemplate": "group_column=A<br>x=%{x}<br>y=%{y}<extra></extra>",
         "legendgroup": "A",
         "line": {
          "color": "#636efa",
          "dash": "solid"
         },
         "marker": {
          "symbol": "circle"
         },
         "mode": "lines+markers",
         "name": "A",
         "orientation": "v",
         "showlegend": true,
         "type": "scatter",
         "x": [
          1,
          2,
          3
         ],
         "xaxis": "x",
         "y": [
          10,
          11,
          12
         ],
         "yaxis": "y"
        },
        {
         "hovertemplate": "group_column=B<br>x=%{x}<br>y=%{y}<extra></extra>",
         "legendgroup": "B",
         "line": {
          "color": "#EF553B",
          "dash": "solid"
         },
         "marker": {
          "symbol": "circle"
         },
         "mode": "lines+markers",
         "name": "B",
         "orientation": "v",
         "showlegend": true,
         "type": "scatter",
         "x": [
          1,
          2,
          3
         ],
         "xaxis": "x",
         "y": [
          20,
          21,
          22
         ],
         "yaxis": "y"
        },
        {
         "hovertemplate": "group_column=C<br>x=%{x}<br>y=%{y}<extra></extra>",
         "legendgroup": "C",
         "line": {
          "color": "#00cc96",
          "dash": "solid"
         },
         "marker": {
          "symbol": "circle"
         },
         "mode": "lines+markers",
         "name": "C",
         "orientation": "v",
         "showlegend": true,
         "type": "scatter",
         "x": [
          1,
          2,
          3
         ],
         "xaxis": "x",
         "y": [
          30,
          31,
          32
         ],
         "yaxis": "y"
        }
       ],
       "layout": {
        "legend": {
         "title": {
          "text": "group_column"
         },
         "tracegroupgap": 0
        },
        "margin": {
         "t": 60
        },
        "template": {
         "data": {
          "bar": [
           {
            "error_x": {
             "color": "#2a3f5f"
            },
            "error_y": {
             "color": "#2a3f5f"
            },
            "marker": {
             "line": {
              "color": "#E5ECF6",
              "width": 0.5
             },
             "pattern": {
              "fillmode": "overlay",
              "size": 10,
              "solidity": 0.2
             }
            },
            "type": "bar"
           }
          ],
          "barpolar": [
           {
            "marker": {
             "line": {
              "color": "#E5ECF6",
              "width": 0.5
             },
             "pattern": {
              "fillmode": "overlay",
              "size": 10,
              "solidity": 0.2
             }
            },
            "type": "barpolar"
           }
          ],
          "carpet": [
           {
            "aaxis": {
             "endlinecolor": "#2a3f5f",
             "gridcolor": "white",
             "linecolor": "white",
             "minorgridcolor": "white",
             "startlinecolor": "#2a3f5f"
            },
            "baxis": {
             "endlinecolor": "#2a3f5f",
             "gridcolor": "white",
             "linecolor": "white",
             "minorgridcolor": "white",
             "startlinecolor": "#2a3f5f"
            },
            "type": "carpet"
           }
          ],
          "choropleth": [
           {
            "colorbar": {
             "outlinewidth": 0,
             "ticks": ""
            },
            "type": "choropleth"
           }
          ],
          "contour": [
           {
            "colorbar": {
             "outlinewidth": 0,
             "ticks": ""
            },
            "colorscale": [
             [
              0,
              "#0d0887"
             ],
             [
              0.1111111111111111,
              "#46039f"
             ],
             [
              0.2222222222222222,
              "#7201a8"
             ],
             [
              0.3333333333333333,
              "#9c179e"
             ],
             [
              0.4444444444444444,
              "#bd3786"
             ],
             [
              0.5555555555555556,
              "#d8576b"
             ],
             [
              0.6666666666666666,
              "#ed7953"
             ],
             [
              0.7777777777777778,
              "#fb9f3a"
             ],
             [
              0.8888888888888888,
              "#fdca26"
             ],
             [
              1,
              "#f0f921"
             ]
            ],
            "type": "contour"
           }
          ],
          "contourcarpet": [
           {
            "colorbar": {
             "outlinewidth": 0,
             "ticks": ""
            },
            "type": "contourcarpet"
           }
          ],
          "heatmap": [
           {
            "colorbar": {
             "outlinewidth": 0,
             "ticks": ""
            },
            "colorscale": [
             [
              0,
              "#0d0887"
             ],
             [
              0.1111111111111111,
              "#46039f"
             ],
             [
              0.2222222222222222,
              "#7201a8"
             ],
             [
              0.3333333333333333,
              "#9c179e"
             ],
             [
              0.4444444444444444,
              "#bd3786"
             ],
             [
              0.5555555555555556,
              "#d8576b"
             ],
             [
              0.6666666666666666,
              "#ed7953"
             ],
             [
              0.7777777777777778,
              "#fb9f3a"
             ],
             [
              0.8888888888888888,
              "#fdca26"
             ],
             [
              1,
              "#f0f921"
             ]
            ],
            "type": "heatmap"
           }
          ],
          "heatmapgl": [
           {
            "colorbar": {
             "outlinewidth": 0,
             "ticks": ""
            },
            "colorscale": [
             [
              0,
              "#0d0887"
             ],
             [
              0.1111111111111111,
              "#46039f"
             ],
             [
              0.2222222222222222,
              "#7201a8"
             ],
             [
              0.3333333333333333,
              "#9c179e"
             ],
             [
              0.4444444444444444,
              "#bd3786"
             ],
             [
              0.5555555555555556,
              "#d8576b"
             ],
             [
              0.6666666666666666,
              "#ed7953"
             ],
             [
              0.7777777777777778,
              "#fb9f3a"
             ],
             [
              0.8888888888888888,
              "#fdca26"
             ],
             [
              1,
              "#f0f921"
             ]
            ],
            "type": "heatmapgl"
           }
          ],
          "histogram": [
           {
            "marker": {
             "pattern": {
              "fillmode": "overlay",
              "size": 10,
              "solidity": 0.2
             }
            },
            "type": "histogram"
           }
          ],
          "histogram2d": [
           {
            "colorbar": {
             "outlinewidth": 0,
             "ticks": ""
            },
            "colorscale": [
             [
              0,
              "#0d0887"
             ],
             [
              0.1111111111111111,
              "#46039f"
             ],
             [
              0.2222222222222222,
              "#7201a8"
             ],
             [
              0.3333333333333333,
              "#9c179e"
             ],
             [
              0.4444444444444444,
              "#bd3786"
             ],
             [
              0.5555555555555556,
              "#d8576b"
             ],
             [
              0.6666666666666666,
              "#ed7953"
             ],
             [
              0.7777777777777778,
              "#fb9f3a"
             ],
             [
              0.8888888888888888,
              "#fdca26"
             ],
             [
              1,
              "#f0f921"
             ]
            ],
            "type": "histogram2d"
           }
          ],
          "histogram2dcontour": [
           {
            "colorbar": {
             "outlinewidth": 0,
             "ticks": ""
            },
            "colorscale": [
             [
              0,
              "#0d0887"
             ],
             [
              0.1111111111111111,
              "#46039f"
             ],
             [
              0.2222222222222222,
              "#7201a8"
             ],
             [
              0.3333333333333333,
              "#9c179e"
             ],
             [
              0.4444444444444444,
              "#bd3786"
             ],
             [
              0.5555555555555556,
              "#d8576b"
             ],
             [
              0.6666666666666666,
              "#ed7953"
             ],
             [
              0.7777777777777778,
              "#fb9f3a"
             ],
             [
              0.8888888888888888,
              "#fdca26"
             ],
             [
              1,
              "#f0f921"
             ]
            ],
            "type": "histogram2dcontour"
           }
          ],
          "mesh3d": [
           {
            "colorbar": {
             "outlinewidth": 0,
             "ticks": ""
            },
            "type": "mesh3d"
           }
          ],
          "parcoords": [
           {
            "line": {
             "colorbar": {
              "outlinewidth": 0,
              "ticks": ""
             }
            },
            "type": "parcoords"
           }
          ],
          "pie": [
           {
            "automargin": true,
            "type": "pie"
           }
          ],
          "scatter": [
           {
            "fillpattern": {
             "fillmode": "overlay",
             "size": 10,
             "solidity": 0.2
            },
            "type": "scatter"
           }
          ],
          "scatter3d": [
           {
            "line": {
             "colorbar": {
              "outlinewidth": 0,
              "ticks": ""
             }
            },
            "marker": {
             "colorbar": {
              "outlinewidth": 0,
              "ticks": ""
             }
            },
            "type": "scatter3d"
           }
          ],
          "scattercarpet": [
           {
            "marker": {
             "colorbar": {
              "outlinewidth": 0,
              "ticks": ""
             }
            },
            "type": "scattercarpet"
           }
          ],
          "scattergeo": [
           {
            "marker": {
             "colorbar": {
              "outlinewidth": 0,
              "ticks": ""
             }
            },
            "type": "scattergeo"
           }
          ],
          "scattergl": [
           {
            "marker": {
             "colorbar": {
              "outlinewidth": 0,
              "ticks": ""
             }
            },
            "type": "scattergl"
           }
          ],
          "scattermapbox": [
           {
            "marker": {
             "colorbar": {
              "outlinewidth": 0,
              "ticks": ""
             }
            },
            "type": "scattermapbox"
           }
          ],
          "scatterpolar": [
           {
            "marker": {
             "colorbar": {
              "outlinewidth": 0,
              "ticks": ""
             }
            },
            "type": "scatterpolar"
           }
          ],
          "scatterpolargl": [
           {
            "marker": {
             "colorbar": {
              "outlinewidth": 0,
              "ticks": ""
             }
            },
            "type": "scatterpolargl"
           }
          ],
          "scatterternary": [
           {
            "marker": {
             "colorbar": {
              "outlinewidth": 0,
              "ticks": ""
             }
            },
            "type": "scatterternary"
           }
          ],
          "surface": [
           {
            "colorbar": {
             "outlinewidth": 0,
             "ticks": ""
            },
            "colorscale": [
             [
              0,
              "#0d0887"
             ],
             [
              0.1111111111111111,
              "#46039f"
             ],
             [
              0.2222222222222222,
              "#7201a8"
             ],
             [
              0.3333333333333333,
              "#9c179e"
             ],
             [
              0.4444444444444444,
              "#bd3786"
             ],
             [
              0.5555555555555556,
              "#d8576b"
             ],
             [
              0.6666666666666666,
              "#ed7953"
             ],
             [
              0.7777777777777778,
              "#fb9f3a"
             ],
             [
              0.8888888888888888,
              "#fdca26"
             ],
             [
              1,
              "#f0f921"
             ]
            ],
            "type": "surface"
           }
          ],
          "table": [
           {
            "cells": {
             "fill": {
              "color": "#EBF0F8"
             },
             "line": {
              "color": "white"
             }
            },
            "header": {
             "fill": {
              "color": "#C8D4E3"
             },
             "line": {
              "color": "white"
             }
            },
            "type": "table"
           }
          ]
         },
         "layout": {
          "annotationdefaults": {
           "arrowcolor": "#2a3f5f",
           "arrowhead": 0,
           "arrowwidth": 1
          },
          "autotypenumbers": "strict",
          "coloraxis": {
           "colorbar": {
            "outlinewidth": 0,
            "ticks": ""
           }
          },
          "colorscale": {
           "diverging": [
            [
             0,
             "#8e0152"
            ],
            [
             0.1,
             "#c51b7d"
            ],
            [
             0.2,
             "#de77ae"
            ],
            [
             0.3,
             "#f1b6da"
            ],
            [
             0.4,
             "#fde0ef"
            ],
            [
             0.5,
             "#f7f7f7"
            ],
            [
             0.6,
             "#e6f5d0"
            ],
            [
             0.7,
             "#b8e186"
            ],
            [
             0.8,
             "#7fbc41"
            ],
            [
             0.9,
             "#4d9221"
            ],
            [
             1,
             "#276419"
            ]
           ],
           "sequential": [
            [
             0,
             "#0d0887"
            ],
            [
             0.1111111111111111,
             "#46039f"
            ],
            [
             0.2222222222222222,
             "#7201a8"
            ],
            [
             0.3333333333333333,
             "#9c179e"
            ],
            [
             0.4444444444444444,
             "#bd3786"
            ],
            [
             0.5555555555555556,
             "#d8576b"
            ],
            [
             0.6666666666666666,
             "#ed7953"
            ],
            [
             0.7777777777777778,
             "#fb9f3a"
            ],
            [
             0.8888888888888888,
             "#fdca26"
            ],
            [
             1,
             "#f0f921"
            ]
           ],
           "sequentialminus": [
            [
             0,
             "#0d0887"
            ],
            [
             0.1111111111111111,
             "#46039f"
            ],
            [
             0.2222222222222222,
             "#7201a8"
            ],
            [
             0.3333333333333333,
             "#9c179e"
            ],
            [
             0.4444444444444444,
             "#bd3786"
            ],
            [
             0.5555555555555556,
             "#d8576b"
            ],
            [
             0.6666666666666666,
             "#ed7953"
            ],
            [
             0.7777777777777778,
             "#fb9f3a"
            ],
            [
             0.8888888888888888,
             "#fdca26"
            ],
            [
             1,
             "#f0f921"
            ]
           ]
          },
          "colorway": [
           "#636efa",
           "#EF553B",
           "#00cc96",
           "#ab63fa",
           "#FFA15A",
           "#19d3f3",
           "#FF6692",
           "#B6E880",
           "#FF97FF",
           "#FECB52"
          ],
          "font": {
           "color": "#2a3f5f"
          },
          "geo": {
           "bgcolor": "white",
           "lakecolor": "white",
           "landcolor": "#E5ECF6",
           "showlakes": true,
           "showland": true,
           "subunitcolor": "white"
          },
          "hoverlabel": {
           "align": "left"
          },
          "hovermode": "closest",
          "mapbox": {
           "style": "light"
          },
          "paper_bgcolor": "white",
          "plot_bgcolor": "#E5ECF6",
          "polar": {
           "angularaxis": {
            "gridcolor": "white",
            "linecolor": "white",
            "ticks": ""
           },
           "bgcolor": "#E5ECF6",
           "radialaxis": {
            "gridcolor": "white",
            "linecolor": "white",
            "ticks": ""
           }
          },
          "scene": {
           "xaxis": {
            "backgroundcolor": "#E5ECF6",
            "gridcolor": "white",
            "gridwidth": 2,
            "linecolor": "white",
            "showbackground": true,
            "ticks": "",
            "zerolinecolor": "white"
           },
           "yaxis": {
            "backgroundcolor": "#E5ECF6",
            "gridcolor": "white",
            "gridwidth": 2,
            "linecolor": "white",
            "showbackground": true,
            "ticks": "",
            "zerolinecolor": "white"
           },
           "zaxis": {
            "backgroundcolor": "#E5ECF6",
            "gridcolor": "white",
            "gridwidth": 2,
            "linecolor": "white",
            "showbackground": true,
            "ticks": "",
            "zerolinecolor": "white"
           }
          },
          "shapedefaults": {
           "line": {
            "color": "#2a3f5f"
           }
          },
          "ternary": {
           "aaxis": {
            "gridcolor": "white",
            "linecolor": "white",
            "ticks": ""
           },
           "baxis": {
            "gridcolor": "white",
            "linecolor": "white",
            "ticks": ""
           },
           "bgcolor": "#E5ECF6",
           "caxis": {
            "gridcolor": "white",
            "linecolor": "white",
            "ticks": ""
           }
          },
          "title": {
           "x": 0.05
          },
          "xaxis": {
           "automargin": true,
           "gridcolor": "white",
           "linecolor": "white",
           "ticks": "",
           "title": {
            "standoff": 15
           },
           "zerolinecolor": "white",
           "zerolinewidth": 2
          },
          "yaxis": {
           "automargin": true,
           "gridcolor": "white",
           "linecolor": "white",
           "ticks": "",
           "title": {
            "standoff": 15
           },
           "zerolinecolor": "white",
           "zerolinewidth": 2
          }
         }
        },
        "title": {
         "text": "Line Chart with Grouping"
        },
        "xaxis": {
         "anchor": "y",
         "domain": [
          0,
          1
         ],
         "title": {
          "text": "X-axis"
         }
        },
        "yaxis": {
         "anchor": "x",
         "domain": [
          0,
          1
         ],
         "title": {
          "text": "Y-axis"
         }
        }
       }
      }
     },
     "metadata": {},
     "output_type": "display_data"
    }
   ],
   "source": [
    "import plotly.express as px\n",
    "\n",
    "# Sample DataFrame\n",
    "# Replace this with your actual DataFrame\n",
    "df = pd.DataFrame({\n",
    "    'x': [1, 2, 3, 1, 2, 3, 1, 2, 3],\n",
    "    'y': [10, 11, 12, 20, 21, 22, 30, 31, 32],\n",
    "    'group_column': ['A', 'A', 'A', 'B', 'B', 'B', 'C', 'C', 'C']\n",
    "})\n",
    "\n",
    "# Create a line chart with grouping\n",
    "fig = px.line(df, x='x', y='y', color='group_column', markers=True, line_group='group_column')\n",
    "\n",
    "# Update layout if needed\n",
    "fig.update_layout(title='Line Chart with Grouping', xaxis_title='X-axis', yaxis_title='Y-axis')\n",
    "\n",
    "# Show the plot\n",
    "fig.show()"
   ]
  }
 ],
 "metadata": {
  "kernelspec": {
   "display_name": "env",
   "language": "python",
   "name": "python3"
  },
  "language_info": {
   "codemirror_mode": {
    "name": "ipython",
    "version": 3
   },
   "file_extension": ".py",
   "mimetype": "text/x-python",
   "name": "python",
   "nbconvert_exporter": "python",
   "pygments_lexer": "ipython3",
   "version": "3.8.9"
  }
 },
 "nbformat": 4,
 "nbformat_minor": 2
}
